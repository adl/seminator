{
 "cells": [
  {
   "cell_type": "markdown",
   "metadata": {},
   "source": [
    "# Experimental evaluation of Seminator\n",
    "## Tools preparation\n",
    "Make sure you have [Spot](https://spot.lrde.epita.fr/index.html) version 2.3.2 or greater installed in you system and that the commands `autfilt`, `genltl`, `randltl`, `ltlfilt`, `ltl2tgba` are available in your `PATH`."
   ]
  },
  {
   "cell_type": "code",
   "execution_count": 23,
   "metadata": {},
   "outputs": [
    {
     "name": "stdout",
     "output_type": "stream",
     "text": [
      "autfilt (spot) 2.7\n",
      "\n",
      "Copyright (C) 2018  Laboratoire de Recherche et Développement de l'Epita.\n",
      "License GPLv3+: GNU GPL version 3 or later <http://gnu.org/licenses/gpl.html>.\n",
      "This is free software: you are free to change and redistribute it.\n",
      "There is NO WARRANTY, to the extent permitted by law.\n",
      "genltl (spot) 2.7\n",
      "\n",
      "Copyright (C) 2018  Laboratoire de Recherche et Développement de l'Epita.\n",
      "License GPLv3+: GNU GPL version 3 or later <http://gnu.org/licenses/gpl.html>.\n",
      "This is free software: you are free to change and redistribute it.\n",
      "There is NO WARRANTY, to the extent permitted by law.\n",
      "randltl (spot) 2.7\n",
      "\n",
      "Copyright (C) 2018  Laboratoire de Recherche et Développement de l'Epita.\n",
      "License GPLv3+: GNU GPL version 3 or later <http://gnu.org/licenses/gpl.html>.\n",
      "This is free software: you are free to change and redistribute it.\n",
      "There is NO WARRANTY, to the extent permitted by law.\n",
      "ltlfilt (spot) 2.7\n",
      "\n",
      "Copyright (C) 2018  Laboratoire de Recherche et Développement de l'Epita.\n",
      "License GPLv3+: GNU GPL version 3 or later <http://gnu.org/licenses/gpl.html>.\n",
      "This is free software: you are free to change and redistribute it.\n",
      "There is NO WARRANTY, to the extent permitted by law.\n",
      "ltl2tgba (spot) 2.7\n",
      "\n",
      "Copyright (C) 2018  Laboratoire de Recherche et Développement de l'Epita.\n",
      "License GPLv3+: GNU GPL version 3 or later <http://gnu.org/licenses/gpl.html>.\n",
      "This is free software: you are free to change and redistribute it.\n",
      "There is NO WARRANTY, to the extent permitted by law.\n"
     ]
    }
   ],
   "source": [
    "%%bash\n",
    "autfilt --version\n",
    "genltl --version\n",
    "randltl --version\n",
    "ltlfilt --version\n",
    "ltl2tgba --version"
   ]
  },
  {
   "cell_type": "markdown",
   "metadata": {},
   "source": [
    "Now check that you have the Python bindings of Spot available."
   ]
  },
  {
   "cell_type": "code",
   "execution_count": 24,
   "metadata": {},
   "outputs": [],
   "source": [
    "import spot"
   ]
  },
  {
   "cell_type": "markdown",
   "metadata": {},
   "source": [
    "Install `Seminator` and the [Owl](https://www7.in.tum.de/~sickert/projects/owl/) library."
   ]
  },
  {
   "cell_type": "code",
   "execution_count": 25,
   "metadata": {},
   "outputs": [
    {
     "name": "stdout",
     "output_type": "stream",
     "text": [
      "g++  -std=c++14 -g -I/usr/local/include  -c -o seminator.o seminator.cpp\n",
      "g++ -std=c++14 -g -lstdc++ -o seminator seminator.o -L/usr/local/lib -lspot -lbddx\n"
     ]
    }
   ],
   "source": [
    "%%bash\n",
    "make\n",
    "./download_ltl2ldba.sh"
   ]
  },
  {
   "cell_type": "code",
   "execution_count": 27,
   "metadata": {},
   "outputs": [
    {
     "name": "stdout",
     "output_type": "stream",
     "text": [
      "Seminator (v1.2.0dev)\n",
      "License GPLv3+: GNU GPL version 3 or later <http://gnu.org/licenses/gpl.html>.\n",
      "This is free software: you are free to change and redistribute it.\n",
      "There is NO WARRANTY, to the extent permitted by law.\n",
      "\n"
     ]
    }
   ],
   "source": [
    "%%bash\n",
    "./seminator --version"
   ]
  },
  {
   "cell_type": "markdown",
   "metadata": {},
   "source": [
    "## Benchmark formulae preparation"
   ]
  },
  {
   "cell_type": "markdown",
   "metadata": {},
   "source": [
    "Run the [Formulae](Formulae.ipynb) notebook. For more information about the formulae consult the [notebook](Formulae.ipynb) directly."
   ]
  },
  {
   "cell_type": "raw",
   "metadata": {},
   "source": [
    "%run Formulae.ipynb"
   ]
  },
  {
   "cell_type": "markdown",
   "metadata": {},
   "source": [
    "## Run the Evaluation and Results"
   ]
  },
  {
   "cell_type": "markdown",
   "metadata": {},
   "source": [
    "The notebook [Run_comparison](Run_comparison.ipynb) creates tables that compare Seminator to `ltl2ldba` and `nba2ldba`. The  R-script ['data/scatter.r'](data/scatter.r) generates corresponding scatter plots. To just see the tables run the next cell. If you want to see how the tables were created, conslut the notebook  directly.\n",
    "\n",
    "If you want to rerun the experiments by yourself, delete the `.csv` files with the results in the directory `data`,\n",
    "```ipython\n",
    "rm data/*.csv\n",
    "```\n",
    "or set the variable `rerun` to `True` in the second cell of the [Run_comparison](Run_comparison.ipynb) notebook and then run (either using the next cell, or in the notebook directly) it **[can take more then 1 hour]**.\n",
    "```python\n",
    "rerun = True```\n",
    "The [Run_comparison](Run_comparison.ipynb) notebook then creates 8 `.csv` files in the directory [`data`](data) that are used to create the tables and scatter plots. With `rerun = False` you rerun only the analysis."
   ]
  },
  {
   "cell_type": "code",
   "execution_count": 36,
   "metadata": {},
   "outputs": [
    {
     "data": {
      "text/markdown": [
       "### Comparison of tools producing cut-deterministic automata\n",
       "All tools finished within the one-minute time limit.\n"
      ]
     },
     "metadata": {},
     "output_type": "display_data"
    },
    {
     "data": {
      "text/html": [
       "<div>\n",
       "<style scoped>\n",
       "    .dataframe tbody tr th:only-of-type {\n",
       "        vertical-align: middle;\n",
       "    }\n",
       "\n",
       "    .dataframe tbody tr th {\n",
       "        vertical-align: top;\n",
       "    }\n",
       "\n",
       "    .dataframe thead tr th {\n",
       "        text-align: left;\n",
       "    }\n",
       "\n",
       "    .dataframe thead tr:last-of-type th {\n",
       "        text-align: right;\n",
       "    }\n",
       "</style>\n",
       "<table border=\"1\" class=\"dataframe\">\n",
       "  <thead>\n",
       "    <tr>\n",
       "      <th></th>\n",
       "      <th></th>\n",
       "      <th></th>\n",
       "      <th colspan=\"2\" halign=\"left\">seminator</th>\n",
       "      <th colspan=\"2\" halign=\"left\">sem_enter</th>\n",
       "      <th colspan=\"2\" halign=\"left\">2-step</th>\n",
       "      <th colspan=\"2\" halign=\"left\">ltl2ldba</th>\n",
       "    </tr>\n",
       "    <tr>\n",
       "      <th></th>\n",
       "      <th></th>\n",
       "      <th>n</th>\n",
       "      <th>no</th>\n",
       "      <th>yes</th>\n",
       "      <th>no</th>\n",
       "      <th>yes</th>\n",
       "      <th>no</th>\n",
       "      <th>yes</th>\n",
       "      <th>no</th>\n",
       "      <th>yes</th>\n",
       "    </tr>\n",
       "    <tr>\n",
       "      <th>origin</th>\n",
       "      <th>type</th>\n",
       "      <th></th>\n",
       "      <th></th>\n",
       "      <th></th>\n",
       "      <th></th>\n",
       "      <th></th>\n",
       "      <th></th>\n",
       "      <th></th>\n",
       "      <th></th>\n",
       "      <th></th>\n",
       "    </tr>\n",
       "  </thead>\n",
       "  <tbody>\n",
       "    <tr>\n",
       "      <th rowspan=\"4\" valign=\"top\">random</th>\n",
       "      <th>det</th>\n",
       "      <td>100</td>\n",
       "      <td>415.0</td>\n",
       "      <td>415.0</td>\n",
       "      <td>415.0</td>\n",
       "      <td>415.0</td>\n",
       "      <td>416.0</td>\n",
       "      <td>416.0</td>\n",
       "      <td>514.0</td>\n",
       "      <td>460.0</td>\n",
       "    </tr>\n",
       "    <tr>\n",
       "      <th>cd</th>\n",
       "      <td>100</td>\n",
       "      <td>464.0</td>\n",
       "      <td>464.0</td>\n",
       "      <td>464.0</td>\n",
       "      <td>464.0</td>\n",
       "      <td>464.0</td>\n",
       "      <td>464.0</td>\n",
       "      <td>688.0</td>\n",
       "      <td>588.0</td>\n",
       "    </tr>\n",
       "    <tr>\n",
       "      <th>sd</th>\n",
       "      <td>100</td>\n",
       "      <td>734.0</td>\n",
       "      <td>712.0</td>\n",
       "      <td>734.0</td>\n",
       "      <td>712.0</td>\n",
       "      <td>735.0</td>\n",
       "      <td>713.0</td>\n",
       "      <td>921.0</td>\n",
       "      <td>772.0</td>\n",
       "    </tr>\n",
       "    <tr>\n",
       "      <th>nd</th>\n",
       "      <td>100</td>\n",
       "      <td>2019.0</td>\n",
       "      <td>1122.0</td>\n",
       "      <td>2033.0</td>\n",
       "      <td>978.0</td>\n",
       "      <td>2093.0</td>\n",
       "      <td>1176.0</td>\n",
       "      <td>1088.0</td>\n",
       "      <td>833.0</td>\n",
       "    </tr>\n",
       "    <tr>\n",
       "      <th rowspan=\"4\" valign=\"top\">literature</th>\n",
       "      <th>det</th>\n",
       "      <td>149</td>\n",
       "      <td>556.0</td>\n",
       "      <td>556.0</td>\n",
       "      <td>556.0</td>\n",
       "      <td>556.0</td>\n",
       "      <td>585.0</td>\n",
       "      <td>585.0</td>\n",
       "      <td>1968.0</td>\n",
       "      <td>773.0</td>\n",
       "    </tr>\n",
       "    <tr>\n",
       "      <th>cd</th>\n",
       "      <td>46</td>\n",
       "      <td>194.0</td>\n",
       "      <td>194.0</td>\n",
       "      <td>194.0</td>\n",
       "      <td>194.0</td>\n",
       "      <td>198.0</td>\n",
       "      <td>198.0</td>\n",
       "      <td>517.0</td>\n",
       "      <td>331.0</td>\n",
       "    </tr>\n",
       "    <tr>\n",
       "      <th>sd</th>\n",
       "      <td>3</td>\n",
       "      <td>13.0</td>\n",
       "      <td>13.0</td>\n",
       "      <td>13.0</td>\n",
       "      <td>13.0</td>\n",
       "      <td>13.0</td>\n",
       "      <td>13.0</td>\n",
       "      <td>26.0</td>\n",
       "      <td>19.0</td>\n",
       "    </tr>\n",
       "    <tr>\n",
       "      <th>nd</th>\n",
       "      <td>23</td>\n",
       "      <td>622.0</td>\n",
       "      <td>397.0</td>\n",
       "      <td>622.0</td>\n",
       "      <td>385.0</td>\n",
       "      <td>644.0</td>\n",
       "      <td>434.0</td>\n",
       "      <td>453.0</td>\n",
       "      <td>354.0</td>\n",
       "    </tr>\n",
       "  </tbody>\n",
       "</table>\n",
       "</div>"
      ],
      "text/plain": [
       "                     seminator         sem_enter         2-step          \\\n",
       "                   n        no     yes        no    yes      no     yes   \n",
       "origin     type                                                           \n",
       "random     det   100     415.0   415.0     415.0  415.0   416.0   416.0   \n",
       "           cd    100     464.0   464.0     464.0  464.0   464.0   464.0   \n",
       "           sd    100     734.0   712.0     734.0  712.0   735.0   713.0   \n",
       "           nd    100    2019.0  1122.0    2033.0  978.0  2093.0  1176.0   \n",
       "literature det   149     556.0   556.0     556.0  556.0   585.0   585.0   \n",
       "           cd     46     194.0   194.0     194.0  194.0   198.0   198.0   \n",
       "           sd      3      13.0    13.0      13.0   13.0    13.0    13.0   \n",
       "           nd     23     622.0   397.0     622.0  385.0   644.0   434.0   \n",
       "\n",
       "                ltl2ldba         \n",
       "                      no    yes  \n",
       "origin     type                  \n",
       "random     det     514.0  460.0  \n",
       "           cd      688.0  588.0  \n",
       "           sd      921.0  772.0  \n",
       "           nd     1088.0  833.0  \n",
       "literature det    1968.0  773.0  \n",
       "           cd      517.0  331.0  \n",
       "           sd       26.0   19.0  \n",
       "           nd      453.0  354.0  "
      ]
     },
     "metadata": {},
     "output_type": "display_data"
    },
    {
     "data": {
      "text/markdown": [
       "### Comparison of tools producing semi-deterministic automata\n",
       "All tools finished within the one-minute time limit.\n"
      ]
     },
     "metadata": {},
     "output_type": "display_data"
    },
    {
     "data": {
      "text/html": [
       "<div>\n",
       "<style scoped>\n",
       "    .dataframe tbody tr th:only-of-type {\n",
       "        vertical-align: middle;\n",
       "    }\n",
       "\n",
       "    .dataframe tbody tr th {\n",
       "        vertical-align: top;\n",
       "    }\n",
       "\n",
       "    .dataframe thead tr th {\n",
       "        text-align: left;\n",
       "    }\n",
       "\n",
       "    .dataframe thead tr:last-of-type th {\n",
       "        text-align: right;\n",
       "    }\n",
       "</style>\n",
       "<table border=\"1\" class=\"dataframe\">\n",
       "  <thead>\n",
       "    <tr>\n",
       "      <th></th>\n",
       "      <th></th>\n",
       "      <th></th>\n",
       "      <th colspan=\"2\" halign=\"left\">seminator</th>\n",
       "      <th colspan=\"2\" halign=\"left\">sem_enter</th>\n",
       "      <th colspan=\"2\" halign=\"left\">2-step</th>\n",
       "      <th colspan=\"2\" halign=\"left\">ltl2ldba</th>\n",
       "      <th colspan=\"2\" halign=\"left\">nba2ldba</th>\n",
       "    </tr>\n",
       "    <tr>\n",
       "      <th></th>\n",
       "      <th></th>\n",
       "      <th>n</th>\n",
       "      <th>no</th>\n",
       "      <th>yes</th>\n",
       "      <th>no</th>\n",
       "      <th>yes</th>\n",
       "      <th>no</th>\n",
       "      <th>yes</th>\n",
       "      <th>no</th>\n",
       "      <th>yes</th>\n",
       "      <th>no</th>\n",
       "      <th>yes</th>\n",
       "    </tr>\n",
       "    <tr>\n",
       "      <th>origin</th>\n",
       "      <th>type</th>\n",
       "      <th></th>\n",
       "      <th></th>\n",
       "      <th></th>\n",
       "      <th></th>\n",
       "      <th></th>\n",
       "      <th></th>\n",
       "      <th></th>\n",
       "      <th></th>\n",
       "      <th></th>\n",
       "      <th></th>\n",
       "      <th></th>\n",
       "    </tr>\n",
       "  </thead>\n",
       "  <tbody>\n",
       "    <tr>\n",
       "      <th rowspan=\"4\" valign=\"top\">random</th>\n",
       "      <th>det</th>\n",
       "      <td>100</td>\n",
       "      <td>415.0</td>\n",
       "      <td>415.0</td>\n",
       "      <td>415.0</td>\n",
       "      <td>415.0</td>\n",
       "      <td>416.0</td>\n",
       "      <td>416.0</td>\n",
       "      <td>514.0</td>\n",
       "      <td>428.0</td>\n",
       "      <td>428.0</td>\n",
       "      <td>428.0</td>\n",
       "    </tr>\n",
       "    <tr>\n",
       "      <th>cd</th>\n",
       "      <td>100</td>\n",
       "      <td>464.0</td>\n",
       "      <td>464.0</td>\n",
       "      <td>464.0</td>\n",
       "      <td>464.0</td>\n",
       "      <td>464.0</td>\n",
       "      <td>464.0</td>\n",
       "      <td>688.0</td>\n",
       "      <td>545.0</td>\n",
       "      <td>506.0</td>\n",
       "      <td>506.0</td>\n",
       "    </tr>\n",
       "    <tr>\n",
       "      <th>sd</th>\n",
       "      <td>100</td>\n",
       "      <td>704.0</td>\n",
       "      <td>704.0</td>\n",
       "      <td>704.0</td>\n",
       "      <td>704.0</td>\n",
       "      <td>705.0</td>\n",
       "      <td>705.0</td>\n",
       "      <td>921.0</td>\n",
       "      <td>688.0</td>\n",
       "      <td>720.0</td>\n",
       "      <td>720.0</td>\n",
       "    </tr>\n",
       "    <tr>\n",
       "      <th>nd</th>\n",
       "      <td>100</td>\n",
       "      <td>1211.0</td>\n",
       "      <td>921.0</td>\n",
       "      <td>1223.0</td>\n",
       "      <td>759.0</td>\n",
       "      <td>1251.0</td>\n",
       "      <td>970.0</td>\n",
       "      <td>1087.0</td>\n",
       "      <td>750.0</td>\n",
       "      <td>1643.0</td>\n",
       "      <td>1003.0</td>\n",
       "    </tr>\n",
       "    <tr>\n",
       "      <th rowspan=\"4\" valign=\"top\">literature</th>\n",
       "      <th>det</th>\n",
       "      <td>149</td>\n",
       "      <td>556.0</td>\n",
       "      <td>556.0</td>\n",
       "      <td>556.0</td>\n",
       "      <td>556.0</td>\n",
       "      <td>585.0</td>\n",
       "      <td>585.0</td>\n",
       "      <td>1968.0</td>\n",
       "      <td>728.0</td>\n",
       "      <td>600.0</td>\n",
       "      <td>600.0</td>\n",
       "    </tr>\n",
       "    <tr>\n",
       "      <th>cd</th>\n",
       "      <td>46</td>\n",
       "      <td>194.0</td>\n",
       "      <td>194.0</td>\n",
       "      <td>194.0</td>\n",
       "      <td>194.0</td>\n",
       "      <td>198.0</td>\n",
       "      <td>198.0</td>\n",
       "      <td>517.0</td>\n",
       "      <td>285.0</td>\n",
       "      <td>207.0</td>\n",
       "      <td>207.0</td>\n",
       "    </tr>\n",
       "    <tr>\n",
       "      <th>sd</th>\n",
       "      <td>3</td>\n",
       "      <td>13.0</td>\n",
       "      <td>13.0</td>\n",
       "      <td>13.0</td>\n",
       "      <td>13.0</td>\n",
       "      <td>13.0</td>\n",
       "      <td>13.0</td>\n",
       "      <td>26.0</td>\n",
       "      <td>16.0</td>\n",
       "      <td>13.0</td>\n",
       "      <td>13.0</td>\n",
       "    </tr>\n",
       "    <tr>\n",
       "      <th>nd</th>\n",
       "      <td>22</td>\n",
       "      <td>345.0</td>\n",
       "      <td>286.0</td>\n",
       "      <td>345.0</td>\n",
       "      <td>271.0</td>\n",
       "      <td>353.0</td>\n",
       "      <td>289.0</td>\n",
       "      <td>406.0</td>\n",
       "      <td>278.0</td>\n",
       "      <td>513.0</td>\n",
       "      <td>345.0</td>\n",
       "    </tr>\n",
       "  </tbody>\n",
       "</table>\n",
       "</div>"
      ],
      "text/plain": [
       "                     seminator        sem_enter         2-step         \\\n",
       "                   n        no    yes        no    yes      no    yes   \n",
       "origin     type                                                         \n",
       "random     det   100     415.0  415.0     415.0  415.0   416.0  416.0   \n",
       "           cd    100     464.0  464.0     464.0  464.0   464.0  464.0   \n",
       "           sd    100     704.0  704.0     704.0  704.0   705.0  705.0   \n",
       "           nd    100    1211.0  921.0    1223.0  759.0  1251.0  970.0   \n",
       "literature det   149     556.0  556.0     556.0  556.0   585.0  585.0   \n",
       "           cd     46     194.0  194.0     194.0  194.0   198.0  198.0   \n",
       "           sd      3      13.0   13.0      13.0   13.0    13.0   13.0   \n",
       "           nd     22     345.0  286.0     345.0  271.0   353.0  289.0   \n",
       "\n",
       "                ltl2ldba        nba2ldba          \n",
       "                      no    yes       no     yes  \n",
       "origin     type                                   \n",
       "random     det     514.0  428.0    428.0   428.0  \n",
       "           cd      688.0  545.0    506.0   506.0  \n",
       "           sd      921.0  688.0    720.0   720.0  \n",
       "           nd     1087.0  750.0   1643.0  1003.0  \n",
       "literature det    1968.0  728.0    600.0   600.0  \n",
       "           cd      517.0  285.0    207.0   207.0  \n",
       "           sd       26.0   16.0     13.0    13.0  \n",
       "           nd      406.0  278.0    513.0   345.0  "
      ]
     },
     "metadata": {},
     "output_type": "display_data"
    }
   ],
   "source": [
    "rerun = False\n",
    "%run Run_comparison.ipynb"
   ]
  },
  {
   "cell_type": "markdown",
   "metadata": {},
   "source": [
    "### Create scatterplots\n",
    "We use R to create scatter plots that compare automata sizes produced by Seminator to those produced by `ltl2ldba` and `nba2ldba`. The last graph shows the comparison of the approach of Seminator in comparison to the 2-step approach."
   ]
  },
  {
   "cell_type": "code",
   "execution_count": 29,
   "metadata": {},
   "outputs": [
    {
     "name": "stderr",
     "output_type": "stream",
     "text": [
      "Warning messages:\n",
      "1: Removed 1 rows containing missing values (geom_point). \n",
      "2: Removed 1 rows containing missing values (geom_point). \n"
     ]
    }
   ],
   "source": [
    "%%bash\n",
    "cd data\n",
    "r scatter.r"
   ]
  },
  {
   "cell_type": "markdown",
   "metadata": {},
   "source": [
    "Use iframes to show the PDFs."
   ]
  },
  {
   "cell_type": "code",
   "execution_count": 30,
   "metadata": {},
   "outputs": [],
   "source": [
    "class PDF(object):\n",
    "    def __init__(self, pdf, size=(200,200)):\n",
    "        self.pdf = pdf\n",
    "        self.size = size\n",
    "\n",
    "    def _repr_html_(self):\n",
    "        return '<iframe src={0} width={1[0]} height={1[1]}></iframe>'.format(self.pdf, self.size)\n",
    "\n",
    "    def _repr_latex_(self):\n",
    "        return r'\\includegraphics[width=1.0\\textwidth]{{{0}}}'.format(self.pdf)"
   ]
  },
  {
   "cell_type": "code",
   "execution_count": 31,
   "metadata": {},
   "outputs": [
    {
     "data": {
      "text/html": [
       "<iframe src=data/ltl_sem.pdf width=600 height=530></iframe>"
      ],
      "text/latex": [
       "\\includegraphics[width=1.0\\textwidth]{data/ltl_sem.pdf}"
      ],
      "text/plain": [
       "<__main__.PDF at 0x7f59ce1e0240>"
      ]
     },
     "execution_count": 31,
     "metadata": {},
     "output_type": "execute_result"
    }
   ],
   "source": [
    "PDF('data/ltl_sem.pdf', size=(600,530))"
   ]
  },
  {
   "cell_type": "code",
   "execution_count": 32,
   "metadata": {},
   "outputs": [
    {
     "data": {
      "text/html": [
       "<iframe src=data/nba_sem.pdf width=600 height=350></iframe>"
      ],
      "text/latex": [
       "\\includegraphics[width=1.0\\textwidth]{data/nba_sem.pdf}"
      ],
      "text/plain": [
       "<__main__.PDF at 0x7f59ce1e01d0>"
      ]
     },
     "execution_count": 32,
     "metadata": {},
     "output_type": "execute_result"
    }
   ],
   "source": [
    "PDF('data/nba_sem.pdf', size=(600,350))"
   ]
  },
  {
   "cell_type": "code",
   "execution_count": 33,
   "metadata": {},
   "outputs": [
    {
     "data": {
      "text/html": [
       "<iframe src=data/2step_sem.pdf width=600 height=530></iframe>"
      ],
      "text/latex": [
       "\\includegraphics[width=1.0\\textwidth]{data/2step_sem.pdf}"
      ],
      "text/plain": [
       "<__main__.PDF at 0x7f59ce1e0eb8>"
      ]
     },
     "execution_count": 33,
     "metadata": {},
     "output_type": "execute_result"
    }
   ],
   "source": [
    "PDF('data/2step_sem.pdf', size=(600,530))"
   ]
  },
  {
   "cell_type": "markdown",
   "metadata": {},
   "source": [
    "## The effect of `--jump-enter` on simplified automta"
   ]
  },
  {
   "cell_type": "code",
   "execution_count": 34,
   "metadata": {},
   "outputs": [
    {
     "data": {
      "text/html": [
       "<iframe src=data/enter_sem.pdf width=600 height=530></iframe>"
      ],
      "text/latex": [
       "\\includegraphics[width=1.0\\textwidth]{data/enter_sem.pdf}"
      ],
      "text/plain": [
       "<__main__.PDF at 0x7f59ae79ea90>"
      ]
     },
     "execution_count": 34,
     "metadata": {},
     "output_type": "execute_result"
    }
   ],
   "source": [
    "PDF('data/enter_sem.pdf', size=(600,530))"
   ]
  },
  {
   "cell_type": "code",
   "execution_count": 35,
   "metadata": {},
   "outputs": [
    {
     "data": {
      "text/html": [
       "<iframe src=data/enter_ltl2ldba.pdf width=600 height=530></iframe>"
      ],
      "text/latex": [
       "\\includegraphics[width=1.0\\textwidth]{data/enter_ltl2ldba.pdf}"
      ],
      "text/plain": [
       "<__main__.PDF at 0x7f59ce9ea898>"
      ]
     },
     "execution_count": 35,
     "metadata": {},
     "output_type": "execute_result"
    }
   ],
   "source": [
    "PDF('data/enter_ltl2ldba.pdf', size=(600,530))"
   ]
  },
  {
   "cell_type": "code",
   "execution_count": null,
   "metadata": {},
   "outputs": [],
   "source": []
  }
 ],
 "metadata": {
  "kernelspec": {
   "display_name": "Python 3",
   "language": "python",
   "name": "python3"
  },
  "language_info": {
   "codemirror_mode": {
    "name": "ipython",
    "version": 3
   },
   "file_extension": ".py",
   "mimetype": "text/x-python",
   "name": "python",
   "nbconvert_exporter": "python",
   "pygments_lexer": "ipython3",
   "version": "3.6.7"
  }
 },
 "nbformat": 4,
 "nbformat_minor": 2
}
