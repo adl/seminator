{
 "cells": [
  {
   "cell_type": "markdown",
   "metadata": {},
   "source": [
    "# Experimental evaluation of Seminator\n",
    "## Tools preparation\n",
    "Make sure you have [Spot](https://spot.lrde.epita.fr/index.html) version 2.3.2 or greater installed in you system and that the commands `autfilt`, `genltl`, `randltl`, `ltlfilt`, `ltl2tgba` are available in your `PATH`."
   ]
  },
  {
   "cell_type": "code",
   "execution_count": 1,
   "metadata": {
    "collapsed": true
   },
   "outputs": [
    {
     "name": "stdout",
     "output_type": "stream",
     "text": [
      "autfilt (spot 2.4.1.dev)\n",
      "\n",
      "Copyright (C) 2017  Laboratoire de Recherche et Développement de l'Epita.\n",
      "License GPLv3+: GNU GPL version 3 or later <http://gnu.org/licenses/gpl.html>.\n",
      "This is free software: you are free to change and redistribute it.\n",
      "There is NO WARRANTY, to the extent permitted by law.\n",
      "genltl (spot 2.4.1.dev)\n",
      "\n",
      "Copyright (C) 2017  Laboratoire de Recherche et Développement de l'Epita.\n",
      "License GPLv3+: GNU GPL version 3 or later <http://gnu.org/licenses/gpl.html>.\n",
      "This is free software: you are free to change and redistribute it.\n",
      "There is NO WARRANTY, to the extent permitted by law.\n",
      "randltl (spot 2.4.1.dev)\n",
      "\n",
      "Copyright (C) 2017  Laboratoire de Recherche et Développement de l'Epita.\n",
      "License GPLv3+: GNU GPL version 3 or later <http://gnu.org/licenses/gpl.html>.\n",
      "This is free software: you are free to change and redistribute it.\n",
      "There is NO WARRANTY, to the extent permitted by law.\n",
      "ltlfilt (spot 2.4.1.dev)\n",
      "\n",
      "Copyright (C) 2017  Laboratoire de Recherche et Développement de l'Epita.\n",
      "License GPLv3+: GNU GPL version 3 or later <http://gnu.org/licenses/gpl.html>.\n",
      "This is free software: you are free to change and redistribute it.\n",
      "There is NO WARRANTY, to the extent permitted by law.\n",
      "ltl2tgba (spot 2.4.1.dev)\n",
      "\n",
      "Copyright (C) 2017  Laboratoire de Recherche et Développement de l'Epita.\n",
      "License GPLv3+: GNU GPL version 3 or later <http://gnu.org/licenses/gpl.html>.\n",
      "This is free software: you are free to change and redistribute it.\n",
      "There is NO WARRANTY, to the extent permitted by law.\n"
     ]
    }
   ],
   "source": [
    "%%bash\n",
    "autfilt --version\n",
    "genltl --version\n",
    "randltl --version\n",
    "ltlfilt --version\n",
    "ltl2tgba --version"
   ]
  },
  {
   "cell_type": "markdown",
   "metadata": {},
   "source": [
    "Now check that you have the Python bindings of Spot available."
   ]
  },
  {
   "cell_type": "code",
   "execution_count": 2,
   "metadata": {
    "collapsed": true
   },
   "outputs": [],
   "source": [
    "import spot"
   ]
  },
  {
   "cell_type": "markdown",
   "metadata": {},
   "source": [
    "Install `Seminator` and the [Owl](https://www7.in.tum.de/~sickert/projects/owl/) library."
   ]
  },
  {
   "cell_type": "code",
   "execution_count": 3,
   "metadata": {},
   "outputs": [
    {
     "name": "stdout",
     "output_type": "stream",
     "text": [
      "make: Nothing to be done for `all'.\n"
     ]
    }
   ],
   "source": [
    "%%bash\n",
    "make\n",
    "./download_ltl2ldba.sh"
   ]
  },
  {
   "cell_type": "code",
   "execution_count": 4,
   "metadata": {},
   "outputs": [
    {
     "name": "stdout",
     "output_type": "stream",
     "text": [
      "Seminator (v1.2.0)\n",
      "License GPLv3+: GNU GPL version 3 or later <http://gnu.org/licenses/gpl.html>.\n",
      "This is free software: you are free to change and redistribute it.\n",
      "There is NO WARRANTY, to the extent permitted by law.\n",
      "\n"
     ]
    }
   ],
   "source": [
    "%%bash\n",
    "./seminator --version"
   ]
  },
  {
   "cell_type": "markdown",
   "metadata": {},
   "source": [
    "## Benchmark formulae preparation"
   ]
  },
  {
   "cell_type": "markdown",
   "metadata": {},
   "source": [
    "Run the [Formulae](Formulae.ipynb) notebook. For more information about the formulae consult the [notebook](Formulae.ipynb) directly."
   ]
  },
  {
   "cell_type": "code",
   "execution_count": 5,
   "metadata": {},
   "outputs": [
    {
     "name": "stdout",
     "output_type": "stream",
     "text": [
      "Automata of type det:\t149\n",
      "Automata of type cd:\t46\n",
      "Automata of type sd:\t3\n",
      "Automata of type nd:\t23\n",
      "Automata of type det:\t100\n",
      "Automata of type cd:\t100\n",
      "Automata of type sd:\t100\n",
      "Automata of type nd:\t100\n"
     ]
    }
   ],
   "source": [
    "%run Formulae.ipynb"
   ]
  },
  {
   "cell_type": "markdown",
   "metadata": {},
   "source": [
    "## Run the Evaluation and Results"
   ]
  },
  {
   "cell_type": "markdown",
   "metadata": {},
   "source": [
    "The notebook [Run_comparison](Run_comparison.ipynb) creates tables that compare Seminator to `ltl2ldba` and `nba2ldba`. The  R-script ['data/scatter.r'](data/scatter.r) generates corresponding scatter plots. To just see the tables run the next cell. If you want to see how the tables were created, conslut the notebook  directly.\n",
    "\n",
    "If you want to rerun the experiments by yourself, set the variable `rerun` to `True` in the second cell of the [Run_comparison](Run_comparison.ipynb) notebook and then run (either using the next cell, or in the notebook directly) it **[can take more then 1 hour]**.\n",
    "```python\n",
    "rerun = True```\n",
    "The [Run_comparison](Run_comparison.ipynb) notebook then creates 8 `.csv` files in the directory [`data`](data) that are used to create the tables and scatter plots. With `rerun = False` you rerun only the analysis."
   ]
  },
  {
   "cell_type": "code",
   "execution_count": 6,
   "metadata": {
    "collapsed": true
   },
   "outputs": [
    {
     "data": {
      "text/markdown": [
       "### Comparison of tools producing cut-deterministic automata\n",
       "All tools finished within the one-minute time limit.\n"
      ]
     },
     "metadata": {},
     "output_type": "display_data"
    },
    {
     "data": {
      "text/html": [
       "<div>\n",
       "<style scoped>\n",
       "    .dataframe tbody tr th:only-of-type {\n",
       "        vertical-align: middle;\n",
       "    }\n",
       "\n",
       "    .dataframe tbody tr th {\n",
       "        vertical-align: top;\n",
       "    }\n",
       "\n",
       "    .dataframe thead tr th {\n",
       "        text-align: left;\n",
       "    }\n",
       "\n",
       "    .dataframe thead tr:last-of-type th {\n",
       "        text-align: right;\n",
       "    }\n",
       "</style>\n",
       "<table border=\"1\" class=\"dataframe\">\n",
       "  <thead>\n",
       "    <tr>\n",
       "      <th></th>\n",
       "      <th></th>\n",
       "      <th></th>\n",
       "      <th colspan=\"2\" halign=\"left\">seminator</th>\n",
       "      <th colspan=\"2\" halign=\"left\">2-step</th>\n",
       "      <th colspan=\"2\" halign=\"left\">ltl2ldba</th>\n",
       "    </tr>\n",
       "    <tr>\n",
       "      <th></th>\n",
       "      <th></th>\n",
       "      <th>n</th>\n",
       "      <th>no</th>\n",
       "      <th>yes</th>\n",
       "      <th>no</th>\n",
       "      <th>yes</th>\n",
       "      <th>no</th>\n",
       "      <th>yes</th>\n",
       "    </tr>\n",
       "    <tr>\n",
       "      <th>origin</th>\n",
       "      <th>type</th>\n",
       "      <th></th>\n",
       "      <th></th>\n",
       "      <th></th>\n",
       "      <th></th>\n",
       "      <th></th>\n",
       "      <th></th>\n",
       "      <th></th>\n",
       "    </tr>\n",
       "  </thead>\n",
       "  <tbody>\n",
       "    <tr>\n",
       "      <th rowspan=\"4\" valign=\"top\">random</th>\n",
       "      <th>det</th>\n",
       "      <td>100</td>\n",
       "      <td>413</td>\n",
       "      <td>413</td>\n",
       "      <td>414</td>\n",
       "      <td>414</td>\n",
       "      <td>570</td>\n",
       "      <td>497</td>\n",
       "    </tr>\n",
       "    <tr>\n",
       "      <th>cd</th>\n",
       "      <td>100</td>\n",
       "      <td>463</td>\n",
       "      <td>463</td>\n",
       "      <td>463</td>\n",
       "      <td>463</td>\n",
       "      <td>732</td>\n",
       "      <td>649</td>\n",
       "    </tr>\n",
       "    <tr>\n",
       "      <th>sd</th>\n",
       "      <td>100</td>\n",
       "      <td>734</td>\n",
       "      <td>712</td>\n",
       "      <td>735</td>\n",
       "      <td>713</td>\n",
       "      <td>1495</td>\n",
       "      <td>1275</td>\n",
       "    </tr>\n",
       "    <tr>\n",
       "      <th>nd</th>\n",
       "      <td>100</td>\n",
       "      <td>2025</td>\n",
       "      <td>1140</td>\n",
       "      <td>2103</td>\n",
       "      <td>1183</td>\n",
       "      <td>1387</td>\n",
       "      <td>1038</td>\n",
       "    </tr>\n",
       "    <tr>\n",
       "      <th rowspan=\"4\" valign=\"top\">literature</th>\n",
       "      <th>det</th>\n",
       "      <td>149</td>\n",
       "      <td>556</td>\n",
       "      <td>556</td>\n",
       "      <td>585</td>\n",
       "      <td>585</td>\n",
       "      <td>1039</td>\n",
       "      <td>809</td>\n",
       "    </tr>\n",
       "    <tr>\n",
       "      <th>cd</th>\n",
       "      <td>46</td>\n",
       "      <td>194</td>\n",
       "      <td>194</td>\n",
       "      <td>198</td>\n",
       "      <td>198</td>\n",
       "      <td>612</td>\n",
       "      <td>488</td>\n",
       "    </tr>\n",
       "    <tr>\n",
       "      <th>sd</th>\n",
       "      <td>3</td>\n",
       "      <td>13</td>\n",
       "      <td>13</td>\n",
       "      <td>13</td>\n",
       "      <td>13</td>\n",
       "      <td>53</td>\n",
       "      <td>40</td>\n",
       "    </tr>\n",
       "    <tr>\n",
       "      <th>nd</th>\n",
       "      <td>23</td>\n",
       "      <td>656</td>\n",
       "      <td>414</td>\n",
       "      <td>698</td>\n",
       "      <td>450</td>\n",
       "      <td>470</td>\n",
       "      <td>410</td>\n",
       "    </tr>\n",
       "  </tbody>\n",
       "</table>\n",
       "</div>"
      ],
      "text/plain": [
       "                     seminator       2-step       ltl2ldba      \n",
       "                   n        no   yes     no   yes       no   yes\n",
       "origin     type                                                 \n",
       "random     det   100       413   413    414   414      570   497\n",
       "           cd    100       463   463    463   463      732   649\n",
       "           sd    100       734   712    735   713     1495  1275\n",
       "           nd    100      2025  1140   2103  1183     1387  1038\n",
       "literature det   149       556   556    585   585     1039   809\n",
       "           cd     46       194   194    198   198      612   488\n",
       "           sd      3        13    13     13    13       53    40\n",
       "           nd     23       656   414    698   450      470   410"
      ]
     },
     "metadata": {},
     "output_type": "display_data"
    },
    {
     "data": {
      "text/markdown": [
       "### Comparison of tools producing semi-deterministic automata\n",
       "All tools finished within the one-minute time limit.\n"
      ]
     },
     "metadata": {},
     "output_type": "display_data"
    },
    {
     "data": {
      "text/html": [
       "<div>\n",
       "<style scoped>\n",
       "    .dataframe tbody tr th:only-of-type {\n",
       "        vertical-align: middle;\n",
       "    }\n",
       "\n",
       "    .dataframe tbody tr th {\n",
       "        vertical-align: top;\n",
       "    }\n",
       "\n",
       "    .dataframe thead tr th {\n",
       "        text-align: left;\n",
       "    }\n",
       "\n",
       "    .dataframe thead tr:last-of-type th {\n",
       "        text-align: right;\n",
       "    }\n",
       "</style>\n",
       "<table border=\"1\" class=\"dataframe\">\n",
       "  <thead>\n",
       "    <tr>\n",
       "      <th></th>\n",
       "      <th></th>\n",
       "      <th></th>\n",
       "      <th colspan=\"2\" halign=\"left\">seminator</th>\n",
       "      <th colspan=\"2\" halign=\"left\">2-step</th>\n",
       "      <th colspan=\"2\" halign=\"left\">ltl2ldba</th>\n",
       "      <th colspan=\"2\" halign=\"left\">nba2ldba</th>\n",
       "    </tr>\n",
       "    <tr>\n",
       "      <th></th>\n",
       "      <th></th>\n",
       "      <th>n</th>\n",
       "      <th>no</th>\n",
       "      <th>yes</th>\n",
       "      <th>no</th>\n",
       "      <th>yes</th>\n",
       "      <th>no</th>\n",
       "      <th>yes</th>\n",
       "      <th>no</th>\n",
       "      <th>yes</th>\n",
       "    </tr>\n",
       "    <tr>\n",
       "      <th>origin</th>\n",
       "      <th>type</th>\n",
       "      <th></th>\n",
       "      <th></th>\n",
       "      <th></th>\n",
       "      <th></th>\n",
       "      <th></th>\n",
       "      <th></th>\n",
       "      <th></th>\n",
       "      <th></th>\n",
       "      <th></th>\n",
       "    </tr>\n",
       "  </thead>\n",
       "  <tbody>\n",
       "    <tr>\n",
       "      <th rowspan=\"4\" valign=\"top\">random</th>\n",
       "      <th>det</th>\n",
       "      <td>100</td>\n",
       "      <td>413</td>\n",
       "      <td>413</td>\n",
       "      <td>414</td>\n",
       "      <td>414</td>\n",
       "      <td>638</td>\n",
       "      <td>446</td>\n",
       "      <td>426</td>\n",
       "      <td>426</td>\n",
       "    </tr>\n",
       "    <tr>\n",
       "      <th>cd</th>\n",
       "      <td>100</td>\n",
       "      <td>463</td>\n",
       "      <td>463</td>\n",
       "      <td>463</td>\n",
       "      <td>463</td>\n",
       "      <td>733</td>\n",
       "      <td>539</td>\n",
       "      <td>863</td>\n",
       "      <td>634</td>\n",
       "    </tr>\n",
       "    <tr>\n",
       "      <th>sd</th>\n",
       "      <td>100</td>\n",
       "      <td>704</td>\n",
       "      <td>704</td>\n",
       "      <td>705</td>\n",
       "      <td>705</td>\n",
       "      <td>1228</td>\n",
       "      <td>784</td>\n",
       "      <td>850</td>\n",
       "      <td>774</td>\n",
       "    </tr>\n",
       "    <tr>\n",
       "      <th>nd</th>\n",
       "      <td>100</td>\n",
       "      <td>1231</td>\n",
       "      <td>937</td>\n",
       "      <td>1274</td>\n",
       "      <td>987</td>\n",
       "      <td>1314</td>\n",
       "      <td>804</td>\n",
       "      <td>3657</td>\n",
       "      <td>1875</td>\n",
       "    </tr>\n",
       "    <tr>\n",
       "      <th rowspan=\"4\" valign=\"top\">literature</th>\n",
       "      <th>det</th>\n",
       "      <td>149</td>\n",
       "      <td>556</td>\n",
       "      <td>556</td>\n",
       "      <td>585</td>\n",
       "      <td>585</td>\n",
       "      <td>1277</td>\n",
       "      <td>855</td>\n",
       "      <td>600</td>\n",
       "      <td>600</td>\n",
       "    </tr>\n",
       "    <tr>\n",
       "      <th>cd</th>\n",
       "      <td>46</td>\n",
       "      <td>194</td>\n",
       "      <td>194</td>\n",
       "      <td>198</td>\n",
       "      <td>198</td>\n",
       "      <td>838</td>\n",
       "      <td>341</td>\n",
       "      <td>377</td>\n",
       "      <td>240</td>\n",
       "    </tr>\n",
       "    <tr>\n",
       "      <th>sd</th>\n",
       "      <td>3</td>\n",
       "      <td>13</td>\n",
       "      <td>13</td>\n",
       "      <td>13</td>\n",
       "      <td>13</td>\n",
       "      <td>41</td>\n",
       "      <td>17</td>\n",
       "      <td>17</td>\n",
       "      <td>13</td>\n",
       "    </tr>\n",
       "    <tr>\n",
       "      <th>nd</th>\n",
       "      <td>23</td>\n",
       "      <td>472</td>\n",
       "      <td>369</td>\n",
       "      <td>514</td>\n",
       "      <td>404</td>\n",
       "      <td>666</td>\n",
       "      <td>376</td>\n",
       "      <td>869</td>\n",
       "      <td>573</td>\n",
       "    </tr>\n",
       "  </tbody>\n",
       "</table>\n",
       "</div>"
      ],
      "text/plain": [
       "                     seminator      2-step      ltl2ldba      nba2ldba      \n",
       "                   n        no  yes     no  yes       no  yes       no   yes\n",
       "origin     type                                                             \n",
       "random     det   100       413  413    414  414      638  446      426   426\n",
       "           cd    100       463  463    463  463      733  539      863   634\n",
       "           sd    100       704  704    705  705     1228  784      850   774\n",
       "           nd    100      1231  937   1274  987     1314  804     3657  1875\n",
       "literature det   149       556  556    585  585     1277  855      600   600\n",
       "           cd     46       194  194    198  198      838  341      377   240\n",
       "           sd      3        13   13     13   13       41   17       17    13\n",
       "           nd     23       472  369    514  404      666  376      869   573"
      ]
     },
     "metadata": {},
     "output_type": "display_data"
    }
   ],
   "source": [
    "%run Run_comparison.ipynb"
   ]
  },
  {
   "cell_type": "markdown",
   "metadata": {},
   "source": [
    "### Create scatterplots\n",
    "We use R to create scatter plots that compare automata sizes produced by Seminator to those produced by `ltl2ldba` and `nba2ldba`"
   ]
  },
  {
   "cell_type": "code",
   "execution_count": 7,
   "metadata": {},
   "outputs": [],
   "source": [
    "%%bash\n",
    "cd data\n",
    "r scatter.r"
   ]
  },
  {
   "cell_type": "markdown",
   "metadata": {},
   "source": [
    "Use iframes to show the PDFs."
   ]
  },
  {
   "cell_type": "code",
   "execution_count": 8,
   "metadata": {},
   "outputs": [],
   "source": [
    "class PDF(object):\n",
    "    def __init__(self, pdf, size=(200,200)):\n",
    "        self.pdf = pdf\n",
    "        self.size = size\n",
    "\n",
    "    def _repr_html_(self):\n",
    "        return '<iframe src={0} width={1[0]} height={1[1]}></iframe>'.format(self.pdf, self.size)\n",
    "\n",
    "    def _repr_latex_(self):\n",
    "        return r'\\includegraphics[width=1.0\\textwidth]{{{0}}}'.format(self.pdf)"
   ]
  },
  {
   "cell_type": "code",
   "execution_count": 9,
   "metadata": {},
   "outputs": [
    {
     "data": {
      "text/html": [
       "<iframe src=data/ltl_sem.pdf width=600 height=530></iframe>"
      ],
      "text/latex": [
       "\\includegraphics[width=1.0\\textwidth]{data/ltl_sem.pdf}"
      ],
      "text/plain": [
       "<__main__.PDF at 0x7f9fcddf7eb8>"
      ]
     },
     "execution_count": 9,
     "metadata": {},
     "output_type": "execute_result"
    }
   ],
   "source": [
    "PDF('data/ltl_sem.pdf', size=(600,530))"
   ]
  },
  {
   "cell_type": "code",
   "execution_count": 10,
   "metadata": {},
   "outputs": [
    {
     "data": {
      "text/html": [
       "<iframe src=data/nba_sem.pdf width=600 height=350></iframe>"
      ],
      "text/latex": [
       "\\includegraphics[width=1.0\\textwidth]{data/nba_sem.pdf}"
      ],
      "text/plain": [
       "<__main__.PDF at 0x7f9fe1c196a0>"
      ]
     },
     "execution_count": 10,
     "metadata": {},
     "output_type": "execute_result"
    }
   ],
   "source": [
    "PDF('data/nba_sem.pdf', size=(600,350))"
   ]
  },
  {
   "cell_type": "code",
   "execution_count": 11,
   "metadata": {},
   "outputs": [
    {
     "data": {
      "text/html": [
       "<iframe src=data/2step_sem.pdf width=600 height=530></iframe>"
      ],
      "text/latex": [
       "\\includegraphics[width=1.0\\textwidth]{data/2step_sem.pdf}"
      ],
      "text/plain": [
       "<__main__.PDF at 0x7f9fcdd75320>"
      ]
     },
     "execution_count": 11,
     "metadata": {},
     "output_type": "execute_result"
    }
   ],
   "source": [
    "PDF('data/2step_sem.pdf', size=(600,530))"
   ]
  }
 ],
 "metadata": {
  "kernelspec": {
   "display_name": "Python 3",
   "language": "python",
   "name": "python3"
  },
  "language_info": {
   "codemirror_mode": {
    "name": "ipython",
    "version": 3
   },
   "file_extension": ".py",
   "mimetype": "text/x-python",
   "name": "python",
   "nbconvert_exporter": "python",
   "pygments_lexer": "ipython3",
   "version": "3.4.3"
  }
 },
 "nbformat": 4,
 "nbformat_minor": 2
}
