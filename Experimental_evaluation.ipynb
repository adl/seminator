{
 "cells": [
  {
   "cell_type": "markdown",
   "metadata": {},
   "source": [
    "# Experimental evaluation of Seminator\n",
    "## Tools preparation\n",
    "Make sure you have [Spot](https://spot.lrde.epita.fr/index.html) version 2.3.2 or greater installed in you system and that the commands `autfilt`, `genltl`, `randltl`, `ltlfilt`, `ltl2tgba` are available in your `PATH`."
   ]
  },
  {
   "cell_type": "code",
   "execution_count": 1,
   "metadata": {
    "collapsed": true
   },
   "outputs": [
    {
     "name": "stdout",
     "output_type": "stream",
     "text": [
      "autfilt (spot 2.4.1.dev)\n",
      "\n",
      "Copyright (C) 2017  Laboratoire de Recherche et Développement de l'Epita.\n",
      "License GPLv3+: GNU GPL version 3 or later <http://gnu.org/licenses/gpl.html>.\n",
      "This is free software: you are free to change and redistribute it.\n",
      "There is NO WARRANTY, to the extent permitted by law.\n",
      "genltl (spot 2.4.1.dev)\n",
      "\n",
      "Copyright (C) 2017  Laboratoire de Recherche et Développement de l'Epita.\n",
      "License GPLv3+: GNU GPL version 3 or later <http://gnu.org/licenses/gpl.html>.\n",
      "This is free software: you are free to change and redistribute it.\n",
      "There is NO WARRANTY, to the extent permitted by law.\n",
      "randltl (spot 2.4.1.dev)\n",
      "\n",
      "Copyright (C) 2017  Laboratoire de Recherche et Développement de l'Epita.\n",
      "License GPLv3+: GNU GPL version 3 or later <http://gnu.org/licenses/gpl.html>.\n",
      "This is free software: you are free to change and redistribute it.\n",
      "There is NO WARRANTY, to the extent permitted by law.\n",
      "ltlfilt (spot 2.4.1.dev)\n",
      "\n",
      "Copyright (C) 2017  Laboratoire de Recherche et Développement de l'Epita.\n",
      "License GPLv3+: GNU GPL version 3 or later <http://gnu.org/licenses/gpl.html>.\n",
      "This is free software: you are free to change and redistribute it.\n",
      "There is NO WARRANTY, to the extent permitted by law.\n",
      "ltl2tgba (spot 2.4.1.dev)\n",
      "\n",
      "Copyright (C) 2017  Laboratoire de Recherche et Développement de l'Epita.\n",
      "License GPLv3+: GNU GPL version 3 or later <http://gnu.org/licenses/gpl.html>.\n",
      "This is free software: you are free to change and redistribute it.\n",
      "There is NO WARRANTY, to the extent permitted by law.\n"
     ]
    }
   ],
   "source": [
    "%%bash\n",
    "autfilt --version\n",
    "genltl --version\n",
    "randltl --version\n",
    "ltlfilt --version\n",
    "ltl2tgba --version"
   ]
  },
  {
   "cell_type": "markdown",
   "metadata": {},
   "source": [
    "Now check that you have the Python bindings of Spot available."
   ]
  },
  {
   "cell_type": "code",
   "execution_count": 2,
   "metadata": {
    "collapsed": true
   },
   "outputs": [],
   "source": [
    "import spot"
   ]
  },
  {
   "cell_type": "markdown",
   "metadata": {},
   "source": [
    "Install `Seminator` and the [Owl](https://www7.in.tum.de/~sickert/projects/owl/) library."
   ]
  },
  {
   "cell_type": "code",
   "execution_count": 3,
   "metadata": {},
   "outputs": [
    {
     "name": "stdout",
     "output_type": "stream",
     "text": [
      "make: Nothing to be done for `all'.\n"
     ]
    }
   ],
   "source": [
    "%%bash\n",
    "make\n",
    "./download_ltl2ldba.sh"
   ]
  },
  {
   "cell_type": "code",
   "execution_count": 4,
   "metadata": {},
   "outputs": [
    {
     "name": "stdout",
     "output_type": "stream",
     "text": [
      "Seminator (v1.1.0dev)\n",
      "License GPLv3+: GNU GPL version 3 or later <http://gnu.org/licenses/gpl.html>.\n",
      "This is free software: you are free to change and redistribute it.\n",
      "There is NO WARRANTY, to the extent permitted by law.\n",
      "\n"
     ]
    }
   ],
   "source": [
    "%%bash\n",
    "./seminator --version"
   ]
  },
  {
   "cell_type": "markdown",
   "metadata": {},
   "source": [
    "## Benchmark formulae preparation"
   ]
  },
  {
   "cell_type": "markdown",
   "metadata": {},
   "source": [
    "Run the [Formulae](Formulae.ipynb) notebook. For more information about the formulae consult the [notebook](Formulae.ipynb) directly."
   ]
  },
  {
   "cell_type": "code",
   "execution_count": 5,
   "metadata": {},
   "outputs": [
    {
     "name": "stdout",
     "output_type": "stream",
     "text": [
      "Automata of type det:\t149\n",
      "Automata of type cd:\t46\n",
      "Automata of type sd:\t3\n",
      "Automata of type nd:\t23\n",
      "Automata of type det:\t100\n",
      "Automata of type cd:\t100\n",
      "Automata of type sd:\t100\n",
      "Automata of type nd:\t100\n"
     ]
    }
   ],
   "source": [
    "%run Formulae.ipynb"
   ]
  },
  {
   "cell_type": "markdown",
   "metadata": {},
   "source": [
    "## Run the Evaluation and Results"
   ]
  },
  {
   "cell_type": "markdown",
   "metadata": {},
   "source": [
    "The notebook [Run_comparison](Run_comparison.ipynb) creates tables that compare Seminator to `ltl2ldba` and `nba2ldba`. The  R-script ['data/scatter.r'](data/scatter.r) generates corresponding scatter plots. To just see the tables run the next cell. If you want to see how the tables were created, conslut the notebook  directly.\n",
    "\n",
    "If you want to rerun the experiments by yourself, set the variable `rerun` to `True` in the second cell of the [Run_comparison](Run_comparison.ipynb) notebook and then run (either using the next cell, or in the notebook directly) it **[can take more then 1 hour]**.\n",
    "```python\n",
    "rerun = True```\n",
    "The [Run_comparison](Run_comparison.ipynb) notebook then creates 8 `.csv` files in the directory [`data`](data) that are used to create the tables and scatter plots. With `rerun = False` you rerun only the analysis."
   ]
  },
  {
   "cell_type": "code",
   "execution_count": 6,
   "metadata": {
    "collapsed": true
   },
   "outputs": [
    {
     "data": {
      "text/markdown": [
       "### Comparison of tools producing cut-deterministic automata\n",
       "All tools finished within the one-minute time limit.\n"
      ]
     },
     "metadata": {},
     "output_type": "display_data"
    },
    {
     "data": {
      "text/html": [
       "<div>\n",
       "<style scoped>\n",
       "    .dataframe tbody tr th:only-of-type {\n",
       "        vertical-align: middle;\n",
       "    }\n",
       "\n",
       "    .dataframe tbody tr th {\n",
       "        vertical-align: top;\n",
       "    }\n",
       "\n",
       "    .dataframe thead tr th {\n",
       "        text-align: left;\n",
       "    }\n",
       "\n",
       "    .dataframe thead tr:last-of-type th {\n",
       "        text-align: right;\n",
       "    }\n",
       "</style>\n",
       "<table border=\"1\" class=\"dataframe\">\n",
       "  <thead>\n",
       "    <tr>\n",
       "      <th></th>\n",
       "      <th></th>\n",
       "      <th></th>\n",
       "      <th colspan=\"2\" halign=\"left\">cy</th>\n",
       "      <th colspan=\"2\" halign=\"left\">ltl2ldba</th>\n",
       "      <th colspan=\"2\" halign=\"left\">seminator</th>\n",
       "    </tr>\n",
       "    <tr>\n",
       "      <th></th>\n",
       "      <th></th>\n",
       "      <th>n</th>\n",
       "      <th>no</th>\n",
       "      <th>yes</th>\n",
       "      <th>no</th>\n",
       "      <th>yes</th>\n",
       "      <th>no</th>\n",
       "      <th>yes</th>\n",
       "    </tr>\n",
       "    <tr>\n",
       "      <th>origin</th>\n",
       "      <th>type</th>\n",
       "      <th></th>\n",
       "      <th></th>\n",
       "      <th></th>\n",
       "      <th></th>\n",
       "      <th></th>\n",
       "      <th></th>\n",
       "      <th></th>\n",
       "    </tr>\n",
       "  </thead>\n",
       "  <tbody>\n",
       "    <tr>\n",
       "      <th rowspan=\"4\" valign=\"top\">random</th>\n",
       "      <th>det</th>\n",
       "      <td>100</td>\n",
       "      <td>426.0</td>\n",
       "      <td>426.0</td>\n",
       "      <td>570.0</td>\n",
       "      <td>497.0</td>\n",
       "      <td>413.0</td>\n",
       "      <td>413.0</td>\n",
       "    </tr>\n",
       "    <tr>\n",
       "      <th>cd</th>\n",
       "      <td>100</td>\n",
       "      <td>505.0</td>\n",
       "      <td>505.0</td>\n",
       "      <td>732.0</td>\n",
       "      <td>649.0</td>\n",
       "      <td>463.0</td>\n",
       "      <td>463.0</td>\n",
       "    </tr>\n",
       "    <tr>\n",
       "      <th>sd</th>\n",
       "      <td>100</td>\n",
       "      <td>750.0</td>\n",
       "      <td>728.0</td>\n",
       "      <td>1495.0</td>\n",
       "      <td>1275.0</td>\n",
       "      <td>734.0</td>\n",
       "      <td>712.0</td>\n",
       "    </tr>\n",
       "    <tr>\n",
       "      <th>nd</th>\n",
       "      <td>100</td>\n",
       "      <td>2350.0</td>\n",
       "      <td>1360.0</td>\n",
       "      <td>1387.0</td>\n",
       "      <td>1038.0</td>\n",
       "      <td>2025.0</td>\n",
       "      <td>1140.0</td>\n",
       "    </tr>\n",
       "    <tr>\n",
       "      <th rowspan=\"4\" valign=\"top\">literature</th>\n",
       "      <th>det</th>\n",
       "      <td>149</td>\n",
       "      <td>600.0</td>\n",
       "      <td>600.0</td>\n",
       "      <td>1039.0</td>\n",
       "      <td>809.0</td>\n",
       "      <td>556.0</td>\n",
       "      <td>556.0</td>\n",
       "    </tr>\n",
       "    <tr>\n",
       "      <th>cd</th>\n",
       "      <td>46</td>\n",
       "      <td>207.0</td>\n",
       "      <td>207.0</td>\n",
       "      <td>612.0</td>\n",
       "      <td>488.0</td>\n",
       "      <td>194.0</td>\n",
       "      <td>194.0</td>\n",
       "    </tr>\n",
       "    <tr>\n",
       "      <th>sd</th>\n",
       "      <td>3</td>\n",
       "      <td>13.0</td>\n",
       "      <td>13.0</td>\n",
       "      <td>53.0</td>\n",
       "      <td>40.0</td>\n",
       "      <td>13.0</td>\n",
       "      <td>13.0</td>\n",
       "    </tr>\n",
       "    <tr>\n",
       "      <th>nd</th>\n",
       "      <td>23</td>\n",
       "      <td>756.0</td>\n",
       "      <td>423.0</td>\n",
       "      <td>421.0</td>\n",
       "      <td>361.0</td>\n",
       "      <td>542.0</td>\n",
       "      <td>348.0</td>\n",
       "    </tr>\n",
       "  </tbody>\n",
       "</table>\n",
       "</div>"
      ],
      "text/plain": [
       "                          cy         ltl2ldba         seminator        \n",
       "                   n      no     yes       no     yes        no     yes\n",
       "origin     type                                                        \n",
       "random     det   100   426.0   426.0    570.0   497.0     413.0   413.0\n",
       "           cd    100   505.0   505.0    732.0   649.0     463.0   463.0\n",
       "           sd    100   750.0   728.0   1495.0  1275.0     734.0   712.0\n",
       "           nd    100  2350.0  1360.0   1387.0  1038.0    2025.0  1140.0\n",
       "literature det   149   600.0   600.0   1039.0   809.0     556.0   556.0\n",
       "           cd     46   207.0   207.0    612.0   488.0     194.0   194.0\n",
       "           sd      3    13.0    13.0     53.0    40.0      13.0    13.0\n",
       "           nd     23   756.0   423.0    421.0   361.0     542.0   348.0"
      ]
     },
     "metadata": {},
     "output_type": "display_data"
    },
    {
     "data": {
      "text/markdown": [
       "### Comparison of tools producing semi-deterministic automata\n",
       "Reductions of the automaton produced by Seminator for one formula from literature did not finish on time (1m). We list the results for the other tools for this particular formula in the last row.\n"
      ]
     },
     "metadata": {},
     "output_type": "display_data"
    },
    {
     "data": {
      "text/html": [
       "<div>\n",
       "<style scoped>\n",
       "    .dataframe tbody tr th:only-of-type {\n",
       "        vertical-align: middle;\n",
       "    }\n",
       "\n",
       "    .dataframe tbody tr th {\n",
       "        vertical-align: top;\n",
       "    }\n",
       "\n",
       "    .dataframe thead tr th {\n",
       "        text-align: left;\n",
       "    }\n",
       "\n",
       "    .dataframe thead tr:last-of-type th {\n",
       "        text-align: right;\n",
       "    }\n",
       "</style>\n",
       "<table border=\"1\" class=\"dataframe\">\n",
       "  <thead>\n",
       "    <tr>\n",
       "      <th></th>\n",
       "      <th></th>\n",
       "      <th></th>\n",
       "      <th colspan=\"2\" halign=\"left\">cy</th>\n",
       "      <th colspan=\"2\" halign=\"left\">ltl2ldba</th>\n",
       "      <th colspan=\"2\" halign=\"left\">nba2ldba</th>\n",
       "      <th colspan=\"2\" halign=\"left\">seminator</th>\n",
       "    </tr>\n",
       "    <tr>\n",
       "      <th></th>\n",
       "      <th></th>\n",
       "      <th>n</th>\n",
       "      <th>no</th>\n",
       "      <th>yes</th>\n",
       "      <th>no</th>\n",
       "      <th>yes</th>\n",
       "      <th>no</th>\n",
       "      <th>yes</th>\n",
       "      <th>no</th>\n",
       "      <th>yes</th>\n",
       "    </tr>\n",
       "    <tr>\n",
       "      <th>origin</th>\n",
       "      <th>type</th>\n",
       "      <th></th>\n",
       "      <th></th>\n",
       "      <th></th>\n",
       "      <th></th>\n",
       "      <th></th>\n",
       "      <th></th>\n",
       "      <th></th>\n",
       "      <th></th>\n",
       "      <th></th>\n",
       "    </tr>\n",
       "  </thead>\n",
       "  <tbody>\n",
       "    <tr>\n",
       "      <th rowspan=\"4\" valign=\"top\">random</th>\n",
       "      <th>det</th>\n",
       "      <td>100</td>\n",
       "      <td>426.0</td>\n",
       "      <td>426.0</td>\n",
       "      <td>638.0</td>\n",
       "      <td>446.0</td>\n",
       "      <td>426.0</td>\n",
       "      <td>426.0</td>\n",
       "      <td>413.0</td>\n",
       "      <td>413.0</td>\n",
       "    </tr>\n",
       "    <tr>\n",
       "      <th>cd</th>\n",
       "      <td>100</td>\n",
       "      <td>505.0</td>\n",
       "      <td>505.0</td>\n",
       "      <td>733.0</td>\n",
       "      <td>539.0</td>\n",
       "      <td>863.0</td>\n",
       "      <td>634.0</td>\n",
       "      <td>463.0</td>\n",
       "      <td>463.0</td>\n",
       "    </tr>\n",
       "    <tr>\n",
       "      <th>sd</th>\n",
       "      <td>100</td>\n",
       "      <td>720.0</td>\n",
       "      <td>720.0</td>\n",
       "      <td>1228.0</td>\n",
       "      <td>784.0</td>\n",
       "      <td>850.0</td>\n",
       "      <td>774.0</td>\n",
       "      <td>704.0</td>\n",
       "      <td>704.0</td>\n",
       "    </tr>\n",
       "    <tr>\n",
       "      <th>nd</th>\n",
       "      <td>100</td>\n",
       "      <td>1417.0</td>\n",
       "      <td>1083.0</td>\n",
       "      <td>1314.0</td>\n",
       "      <td>804.0</td>\n",
       "      <td>3657.0</td>\n",
       "      <td>1875.0</td>\n",
       "      <td>1231.0</td>\n",
       "      <td>937.0</td>\n",
       "    </tr>\n",
       "    <tr>\n",
       "      <th rowspan=\"4\" valign=\"top\">literature</th>\n",
       "      <th>det</th>\n",
       "      <td>149</td>\n",
       "      <td>600.0</td>\n",
       "      <td>600.0</td>\n",
       "      <td>1277.0</td>\n",
       "      <td>855.0</td>\n",
       "      <td>600.0</td>\n",
       "      <td>600.0</td>\n",
       "      <td>556.0</td>\n",
       "      <td>556.0</td>\n",
       "    </tr>\n",
       "    <tr>\n",
       "      <th>cd</th>\n",
       "      <td>46</td>\n",
       "      <td>207.0</td>\n",
       "      <td>207.0</td>\n",
       "      <td>838.0</td>\n",
       "      <td>341.0</td>\n",
       "      <td>377.0</td>\n",
       "      <td>240.0</td>\n",
       "      <td>194.0</td>\n",
       "      <td>194.0</td>\n",
       "    </tr>\n",
       "    <tr>\n",
       "      <th>sd</th>\n",
       "      <td>3</td>\n",
       "      <td>13.0</td>\n",
       "      <td>13.0</td>\n",
       "      <td>41.0</td>\n",
       "      <td>17.0</td>\n",
       "      <td>17.0</td>\n",
       "      <td>13.0</td>\n",
       "      <td>13.0</td>\n",
       "      <td>13.0</td>\n",
       "    </tr>\n",
       "    <tr>\n",
       "      <th>nd</th>\n",
       "      <td>22</td>\n",
       "      <td>428.0</td>\n",
       "      <td>336.0</td>\n",
       "      <td>617.0</td>\n",
       "      <td>327.0</td>\n",
       "      <td>738.0</td>\n",
       "      <td>475.0</td>\n",
       "      <td>373.0</td>\n",
       "      <td>302.0</td>\n",
       "    </tr>\n",
       "    <tr>\n",
       "      <th>lit. (T/O)</th>\n",
       "      <th>nd</th>\n",
       "      <td>1</td>\n",
       "      <td>99.0</td>\n",
       "      <td>67.0</td>\n",
       "      <td>49.0</td>\n",
       "      <td>49.0</td>\n",
       "      <td>131.0</td>\n",
       "      <td>98.0</td>\n",
       "      <td>99.0</td>\n",
       "      <td>NaN</td>\n",
       "    </tr>\n",
       "  </tbody>\n",
       "</table>\n",
       "</div>"
      ],
      "text/plain": [
       "                          cy         ltl2ldba        nba2ldba          \\\n",
       "                   n      no     yes       no    yes       no     yes   \n",
       "origin     type                                                         \n",
       "random     det   100   426.0   426.0    638.0  446.0    426.0   426.0   \n",
       "           cd    100   505.0   505.0    733.0  539.0    863.0   634.0   \n",
       "           sd    100   720.0   720.0   1228.0  784.0    850.0   774.0   \n",
       "           nd    100  1417.0  1083.0   1314.0  804.0   3657.0  1875.0   \n",
       "literature det   149   600.0   600.0   1277.0  855.0    600.0   600.0   \n",
       "           cd     46   207.0   207.0    838.0  341.0    377.0   240.0   \n",
       "           sd      3    13.0    13.0     41.0   17.0     17.0    13.0   \n",
       "           nd     22   428.0   336.0    617.0  327.0    738.0   475.0   \n",
       "lit. (T/O) nd      1    99.0    67.0     49.0   49.0    131.0    98.0   \n",
       "\n",
       "                seminator         \n",
       "                       no    yes  \n",
       "origin     type                   \n",
       "random     det      413.0  413.0  \n",
       "           cd       463.0  463.0  \n",
       "           sd       704.0  704.0  \n",
       "           nd      1231.0  937.0  \n",
       "literature det      556.0  556.0  \n",
       "           cd       194.0  194.0  \n",
       "           sd        13.0   13.0  \n",
       "           nd       373.0  302.0  \n",
       "lit. (T/O) nd        99.0    NaN  "
      ]
     },
     "metadata": {},
     "output_type": "display_data"
    }
   ],
   "source": [
    "%run Run_comparison.ipynb"
   ]
  },
  {
   "cell_type": "markdown",
   "metadata": {},
   "source": [
    "### Create scatterplots\n",
    "We use R to create scatter plots that compare automata sizes produced by Seminator to those produced by `ltl2ldba` and `nba2ldba`"
   ]
  },
  {
   "cell_type": "code",
   "execution_count": 7,
   "metadata": {},
   "outputs": [],
   "source": [
    "%%bash\n",
    "cd data\n",
    "r scatter.r"
   ]
  },
  {
   "cell_type": "markdown",
   "metadata": {},
   "source": [
    "Use iframes to show the PDFs."
   ]
  },
  {
   "cell_type": "code",
   "execution_count": 8,
   "metadata": {},
   "outputs": [],
   "source": [
    "class PDF(object):\n",
    "    def __init__(self, pdf, size=(200,200)):\n",
    "        self.pdf = pdf\n",
    "        self.size = size\n",
    "\n",
    "    def _repr_html_(self):\n",
    "        return '<iframe src={0} width={1[0]} height={1[1]}></iframe>'.format(self.pdf, self.size)\n",
    "\n",
    "    def _repr_latex_(self):\n",
    "        return r'\\includegraphics[width=1.0\\textwidth]{{{0}}}'.format(self.pdf)"
   ]
  },
  {
   "cell_type": "code",
   "execution_count": 9,
   "metadata": {},
   "outputs": [
    {
     "data": {
      "text/html": [
       "<iframe src=data/ltl_sem.pdf width=600 height=530></iframe>"
      ],
      "text/latex": [
       "\\includegraphics[width=1.0\\textwidth]{data/ltl_sem.pdf}"
      ],
      "text/plain": [
       "<__main__.PDF at 0x7efe7bf13ba8>"
      ]
     },
     "execution_count": 9,
     "metadata": {},
     "output_type": "execute_result"
    }
   ],
   "source": [
    "PDF('data/ltl_sem.pdf', size=(600,530))"
   ]
  },
  {
   "cell_type": "code",
   "execution_count": 10,
   "metadata": {},
   "outputs": [
    {
     "data": {
      "text/html": [
       "<iframe src=data/nba_sem.pdf width=600 height=350></iframe>"
      ],
      "text/latex": [
       "\\includegraphics[width=1.0\\textwidth]{data/nba_sem.pdf}"
      ],
      "text/plain": [
       "<__main__.PDF at 0x7efe7bf132e8>"
      ]
     },
     "execution_count": 10,
     "metadata": {},
     "output_type": "execute_result"
    }
   ],
   "source": [
    "PDF('data/nba_sem.pdf', size=(600,350))"
   ]
  }
 ],
 "metadata": {
  "kernelspec": {
   "display_name": "Python 3",
   "language": "python",
   "name": "python3"
  },
  "language_info": {
   "codemirror_mode": {
    "name": "ipython",
    "version": 3
   },
   "file_extension": ".py",
   "mimetype": "text/x-python",
   "name": "python",
   "nbconvert_exporter": "python",
   "pygments_lexer": "ipython3",
   "version": "3.4.3"
  }
 },
 "nbformat": 4,
 "nbformat_minor": 2
}
