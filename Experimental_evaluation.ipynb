{
 "cells": [
  {
   "cell_type": "markdown",
   "metadata": {},
   "source": [
    "# Experimental evaluation of Seminator\n",
    "## Tools preparation\n",
    "Make sure you have [Spot](https://spot.lrde.epita.fr/index.html) version 2.3.2 or greater installed in you system and that the commands `autfilt`, `genltl`, `randltl`, `ltlfilt`, `ltl2tgba` are available in your `PATH`."
   ]
  },
  {
   "cell_type": "code",
   "execution_count": 1,
   "metadata": {
    "collapsed": true
   },
   "outputs": [
    {
     "name": "stdout",
     "output_type": "stream",
     "text": [
      "autfilt (spot 2.3.3.dev)\n",
      "\n",
      "Copyright (C) 2017  Laboratoire de Recherche et Développement de l'Epita.\n",
      "License GPLv3+: GNU GPL version 3 or later <http://gnu.org/licenses/gpl.html>.\n",
      "This is free software: you are free to change and redistribute it.\n",
      "There is NO WARRANTY, to the extent permitted by law.\n",
      "genltl (spot 2.3.3.dev)\n",
      "\n",
      "Copyright (C) 2017  Laboratoire de Recherche et Développement de l'Epita.\n",
      "License GPLv3+: GNU GPL version 3 or later <http://gnu.org/licenses/gpl.html>.\n",
      "This is free software: you are free to change and redistribute it.\n",
      "There is NO WARRANTY, to the extent permitted by law.\n",
      "randltl (spot 2.3.3.dev)\n",
      "\n",
      "Copyright (C) 2017  Laboratoire de Recherche et Développement de l'Epita.\n",
      "License GPLv3+: GNU GPL version 3 or later <http://gnu.org/licenses/gpl.html>.\n",
      "This is free software: you are free to change and redistribute it.\n",
      "There is NO WARRANTY, to the extent permitted by law.\n",
      "ltlfilt (spot 2.3.3.dev)\n",
      "\n",
      "Copyright (C) 2017  Laboratoire de Recherche et Développement de l'Epita.\n",
      "License GPLv3+: GNU GPL version 3 or later <http://gnu.org/licenses/gpl.html>.\n",
      "This is free software: you are free to change and redistribute it.\n",
      "There is NO WARRANTY, to the extent permitted by law.\n",
      "ltl2tgba (spot 2.3.3.dev)\n",
      "\n",
      "Copyright (C) 2017  Laboratoire de Recherche et Développement de l'Epita.\n",
      "License GPLv3+: GNU GPL version 3 or later <http://gnu.org/licenses/gpl.html>.\n",
      "This is free software: you are free to change and redistribute it.\n",
      "There is NO WARRANTY, to the extent permitted by law.\n"
     ]
    }
   ],
   "source": [
    "%%bash\n",
    "autfilt --version\n",
    "genltl --version\n",
    "randltl --version\n",
    "ltlfilt --version\n",
    "ltl2tgba --version"
   ]
  },
  {
   "cell_type": "markdown",
   "metadata": {},
   "source": [
    "Now check that you have the Python bindings of Spot available."
   ]
  },
  {
   "cell_type": "code",
   "execution_count": 3,
   "metadata": {
    "collapsed": true
   },
   "outputs": [],
   "source": [
    "import spot"
   ]
  },
  {
   "cell_type": "markdown",
   "metadata": {},
   "source": [
    "Install `Seminator` and the [Owl](https://www7.in.tum.de/~sickert/projects/owl/) library."
   ]
  },
  {
   "cell_type": "code",
   "execution_count": 2,
   "metadata": {},
   "outputs": [
    {
     "name": "stdout",
     "output_type": "stream",
     "text": [
      "g++  -std=c++11 -g -I/usr/local/include  -c -o seminator.o seminator.cpp\n",
      "g++ -std=c++11 -g -lstdc++ -o seminator seminator.o -L/usr/local/lib -lspot -lbddx\n"
     ]
    }
   ],
   "source": [
    "%%bash\n",
    "make\n",
    "./download_ltl2ldba.sh"
   ]
  },
  {
   "cell_type": "code",
   "execution_count": 5,
   "metadata": {},
   "outputs": [
    {
     "name": "stdout",
     "output_type": "stream",
     "text": [
      "Seminator (v1.1.0)\n",
      "License GPLv3+: GNU GPL version 3 or later <http://gnu.org/licenses/gpl.html>.\n",
      "This is free software: you are free to change and redistribute it.\n",
      "There is NO WARRANTY, to the extent permitted by law.\n",
      "\n"
     ]
    }
   ],
   "source": [
    "%%bash\n",
    "./seminator --version"
   ]
  },
  {
   "cell_type": "markdown",
   "metadata": {},
   "source": [
    "## Benchmark formulae preparation"
   ]
  },
  {
   "cell_type": "markdown",
   "metadata": {},
   "source": [
    "Run the [Formulae](Formulae.ipynb) notebook. For more information what we do with the formulae see the notebook directly and do not run the following cell."
   ]
  },
  {
   "cell_type": "code",
   "execution_count": 8,
   "metadata": {},
   "outputs": [
    {
     "name": "stdout",
     "output_type": "stream",
     "text": [
      "172\n",
      "222\n",
      "Automata of type det:\t148\n",
      "Automata of type cd:\t47\n",
      "Automata of type sd:\t3\n",
      "Automata of type nd:\t24\n",
      "Automata of type det:\t100\n",
      "Automata of type cd:\t100\n",
      "Automata of type sd:\t100\n",
      "Automata of type nd:\t100\n"
     ]
    }
   ],
   "source": [
    "%run Formulae.ipynb"
   ]
  },
  {
   "cell_type": "markdown",
   "metadata": {},
   "source": [
    "To perform the experiments, please, see the [Run_comparison](Run_comparison.ipynb) notebook. It should create 8 `.csv` files that are copied to the directory [`data`](data), where you can find R-scripts used to generate the plots and tables from the paper."
   ]
  },
  {
   "cell_type": "code",
   "execution_count": 14,
   "metadata": {},
   "outputs": [
    {
     "name": "stderr",
     "output_type": "stream",
     "text": [
      "Loading required package: Hmisc\n",
      "Loading required package: lattice\n",
      "Loading required package: survival\n",
      "Loading required package: Formula\n",
      "Loading required package: stats\n",
      "Loading required package: ggplot2\n",
      "\n",
      "Attaching package: ‘Hmisc’\n",
      "\n",
      "The following objects are masked from ‘package:base’:\n",
      "\n",
      "    format.pval, round.POSIXt, trunc.POSIXt, units\n",
      "\n"
     ]
    }
   ],
   "source": [
    "%%bash\n",
    "cd data\n",
    "r tables.r\n",
    "r scatter.r"
   ]
  }
 ],
 "metadata": {
  "kernelspec": {
   "display_name": "Python 3",
   "language": "python",
   "name": "python3"
  },
  "language_info": {
   "codemirror_mode": {
    "name": "ipython",
    "version": 3
   },
   "file_extension": ".py",
   "mimetype": "text/x-python",
   "name": "python",
   "nbconvert_exporter": "python",
   "pygments_lexer": "ipython3",
   "version": "3.4.3"
  }
 },
 "nbformat": 4,
 "nbformat_minor": 2
}
