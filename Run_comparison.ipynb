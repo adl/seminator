{
 "cells": [
  {
   "cell_type": "code",
   "execution_count": 1,
   "metadata": {
    "collapsed": true
   },
   "outputs": [],
   "source": [
    "from ltlcross_runner import LtlcrossRunner\n",
    "from IPython.display import display, Latex\n",
    "import pandas as pd\n",
    "import spot\n",
    "spot.setup(show_default='.a')"
   ]
  },
  {
   "cell_type": "code",
   "execution_count": 2,
   "metadata": {},
   "outputs": [],
   "source": [
    "def latexy(form_str,for_notebook=False):\n",
    "    mode = 'sclatex' if for_notebook else 'latex'\n",
    "    return '$' + spot.formula(form_str).to_str(mode) + '$'"
   ]
  },
  {
   "cell_type": "code",
   "execution_count": 3,
   "metadata": {
    "collapsed": true
   },
   "outputs": [],
   "source": [
    "def prepare_for_output(df):\n",
    "    df.reset_index(inplace=True)\n",
    "    df['form'] = pd.DataFrame.applymap(df.reset_index()[['formula']],latexy)\n",
    "    df.drop('formula',1,inplace=True)\n",
    "    df.drop('form_id',1,inplace=True)\n",
    "    return df[['form'] + list(tool_order)]"
   ]
  },
  {
   "cell_type": "markdown",
   "metadata": {},
   "source": [
    "If `rerun` is set to `False` the script uses the precomputed values. If set to `True`, all values are recomputed\n",
    "(takes more time)"
   ]
  },
  {
   "cell_type": "code",
   "execution_count": 4,
   "metadata": {
    "collapsed": true
   },
   "outputs": [],
   "source": [
    "rerun = True"
   ]
  },
  {
   "cell_type": "code",
   "execution_count": 5,
   "metadata": {},
   "outputs": [],
   "source": [
    "### Tools' setting ###\n",
    "# PATHS\n",
    "ltl2ldba  = 'ltl2ldba-0.9/bin/ltl2ldba %[MWi]f '\n",
    "owl       = 'owl-1.0.0/bin/ltl2ldba %[MWi]f 2>/dev/null'\n",
    "nba2ldba  = 'ltl2tgba --deterministic -f %f --ba | owl-1.0.0/bin/nba2ldba'\n",
    "seminator = 'ltl2tgba --deterministic -f %f | ./seminator'\n",
    "cy        = 'ltl2tgba --deterministic -f %f --ba | ./seminator --cy'\n",
    "### Stripping command for ltl2ldba ###\n",
    "# Ltl2ldba prints carbage collection messages to stdout\n",
    "# which causes errors in ltlcross.\n",
    "# We throw everything until the line HOA v1\n",
    "awk  = ' | awk \\'$0 == \"HOA: v1\" {i=1};i == 1\\''\n",
    "\n",
    "cut  = ' --cd'\n",
    "simp_sd = ' | autfilt --small --tgba'\n",
    "simp_cd = ' | autfilt -x simul=1,ba-simul=1 --small --tgba'\n",
    "nos   = ' -s0' # disables Spot's simplifications used in Seminator\n",
    "end  = ' > %O'\n",
    "\n",
    "### Ltlcross runner configuration ###\n",
    "tools = {## Cut-deterministic\n",
    "#         'LTL2LDBA(cd)'      : ltl2ldba + awk + end,\n",
    "#         'LTL2LDBA(cd)+spot' : ltl2ldba + awk + simp + end,\n",
    "         'cd.ltl2ldba.no' : owl + awk + end,\n",
    "         'cd.ltl2ldba.yes'    : owl + awk + simp_cd + end,\n",
    "         'cd.seminator.no': seminator + nos + cut + end,\n",
    "         'cd.seminator.yes'   : seminator + cut + end,\n",
    "         'cd.cy.no'       : cy + nos + cut + end,     \n",
    "         'cd.cy.yes'          : cy + cut + end,\n",
    "         ### Semi-deterministic\n",
    "         'sd.ltl2ldba.no' : owl + ' -n' + awk + end,\n",
    "         'sd.ltl2ldba.yes'    : owl + ' -n' + awk + simp_sd + end,\n",
    "         'sd.nba2ldba.no' : nba2ldba + awk + end,\n",
    "         'sd.nba2ldba.yes'    : nba2ldba + awk + simp_sd + end,\n",
    "         'sd.seminator.no': seminator + nos + end,\n",
    "         'sd.seminator.yes'   : seminator + end,\n",
    "         'sd.cy.no'       : cy + nos + end,  \n",
    "         'sd.cy.yes'          : cy + end,\n",
    "        }\n",
    "sd_tools = ('sd.cy.no','sd.cy.yes',\n",
    "            'sd.seminator.no','sd.seminator.yes',\n",
    "            'sd.ltl2ldba.no','sd.ltl2ldba.yes',\n",
    "            'sd.nba2ldba.no','sd.nba2ldba.yes')\n",
    "cd_tools = ('cd.cy.no','cd.cy.yes',\n",
    "            'cd.seminator.no','cd.seminator.yes',\n",
    "            'cd.ltl2ldba.no','cd.ltl2ldba.yes')\n",
    "### Formula files ###\n",
    "det_files = ['formulae/literature_det.ltl']\n",
    "nondet_files = ['formulae/literature_nondet.ltl']\n",
    "det_r_files = ['formulae/rand_det.ltl']\n",
    "nondet_r_files = ['formulae/rand_nondet.ltl']\n",
    "### File with measured statistics ###\n",
    "det_res_file = \"sdba_literature_det.csv\"\n",
    "nondet_res_file = \"sdba_literature_nondet.csv\"\n",
    "det_r_res_file = \"sdba_random_det.csv\"\n",
    "nondet_r_res_file = \"sdba_random_nondet.csv\"\n",
    "### Numbers to measure ###\n",
    "cols = ['states','edges','transitions','nondet_states','exit_status','time','acc']\n",
    "tool_order = sd_tools + cd_tools"
   ]
  },
  {
   "cell_type": "code",
   "execution_count": 6,
   "metadata": {},
   "outputs": [],
   "source": [
    "runners = {}\n",
    "for source in ('literature','random'):\n",
    "    for t in ('det','cd','sd','nd'):\n",
    "        name = '{}_{}'.format(source,t)\n",
    "        runners[name] = \\\n",
    "            LtlcrossRunner(tools,\\\n",
    "                    res_filename='{}.csv'.format(name),\\\n",
    "                    formula_files=['formulae/{}.ltl'.format(name)],\\\n",
    "                    cols=cols)\n",
    "        if rerun:\n",
    "            runners[name].run_ltlcross(timeout='720',check=False)\n",
    "        runners[name].parse_results()"
   ]
  },
  {
   "cell_type": "markdown",
   "metadata": {},
   "source": [
    "## Cummulative results"
   ]
  },
  {
   "cell_type": "code",
   "execution_count": 7,
   "metadata": {},
   "outputs": [
    {
     "name": "stdout",
     "output_type": "stream",
     "text": [
      "random_sd\n"
     ]
    },
    {
     "data": {
      "text/plain": [
       "tool\n",
       "cd.cy.no             750\n",
       "cd.cy.yes            728\n",
       "cd.ltl2ldba.no      1492\n",
       "cd.ltl2ldba.yes     1277\n",
       "cd.seminator.no      734\n",
       "cd.seminator.yes     712\n",
       "sd.cy.no             720\n",
       "sd.cy.yes            720\n",
       "sd.ltl2ldba.no      1228\n",
       "sd.ltl2ldba.yes      787\n",
       "sd.nba2ldba.no      1058\n",
       "sd.nba2ldba.yes      720\n",
       "sd.seminator.no      704\n",
       "sd.seminator.yes     704\n",
       "dtype: int64"
      ]
     },
     "metadata": {},
     "output_type": "display_data"
    },
    {
     "name": "stdout",
     "output_type": "stream",
     "text": [
      "literature_nd\n"
     ]
    },
    {
     "data": {
      "text/plain": [
       "tool\n",
       "cd.cy.no            1020.0\n",
       "cd.cy.yes            499.0\n",
       "cd.ltl2ldba.no       420.0\n",
       "cd.ltl2ldba.yes      360.0\n",
       "cd.seminator.no      777.0\n",
       "cd.seminator.yes     456.0\n",
       "sd.cy.no             687.0\n",
       "sd.cy.yes            418.0\n",
       "sd.ltl2ldba.no       616.0\n",
       "sd.ltl2ldba.yes      326.0\n",
       "sd.nba2ldba.no       777.0\n",
       "sd.nba2ldba.yes      459.0\n",
       "sd.seminator.no      608.0\n",
       "sd.seminator.yes     400.0\n",
       "dtype: float64"
      ]
     },
     "metadata": {},
     "output_type": "display_data"
    },
    {
     "name": "stdout",
     "output_type": "stream",
     "text": [
      "random_nd\n"
     ]
    },
    {
     "data": {
      "text/plain": [
       "tool\n",
       "cd.cy.no            4342\n",
       "cd.cy.yes           1954\n",
       "cd.ltl2ldba.no      1394\n",
       "cd.ltl2ldba.yes     1042\n",
       "cd.seminator.no     4032\n",
       "cd.seminator.yes    1754\n",
       "sd.cy.no            3408\n",
       "sd.cy.yes           1637\n",
       "sd.ltl2ldba.no      1666\n",
       "sd.ltl2ldba.yes      873\n",
       "sd.nba2ldba.no      3484\n",
       "sd.nba2ldba.yes     1748\n",
       "sd.seminator.no     3209\n",
       "sd.seminator.yes    1500\n",
       "dtype: int64"
      ]
     },
     "metadata": {},
     "output_type": "display_data"
    },
    {
     "name": "stdout",
     "output_type": "stream",
     "text": [
      "random_cd\n"
     ]
    },
    {
     "data": {
      "text/plain": [
       "tool\n",
       "cd.cy.no            510\n",
       "cd.cy.yes           510\n",
       "cd.ltl2ldba.no      730\n",
       "cd.ltl2ldba.yes     650\n",
       "cd.seminator.no     467\n",
       "cd.seminator.yes    467\n",
       "sd.cy.no            510\n",
       "sd.cy.yes           510\n",
       "sd.ltl2ldba.no      715\n",
       "sd.ltl2ldba.yes     535\n",
       "sd.nba2ldba.no      828\n",
       "sd.nba2ldba.yes     510\n",
       "sd.seminator.no     467\n",
       "sd.seminator.yes    467\n",
       "dtype: int64"
      ]
     },
     "metadata": {},
     "output_type": "display_data"
    },
    {
     "name": "stdout",
     "output_type": "stream",
     "text": [
      "literature_cd\n"
     ]
    },
    {
     "data": {
      "text/plain": [
       "tool\n",
       "cd.cy.no            211\n",
       "cd.cy.yes           211\n",
       "cd.ltl2ldba.no      610\n",
       "cd.ltl2ldba.yes     493\n",
       "cd.seminator.no     197\n",
       "cd.seminator.yes    197\n",
       "sd.cy.no            211\n",
       "sd.cy.yes           211\n",
       "sd.ltl2ldba.no      834\n",
       "sd.ltl2ldba.yes     344\n",
       "sd.nba2ldba.no      364\n",
       "sd.nba2ldba.yes     211\n",
       "sd.seminator.no     197\n",
       "sd.seminator.yes    197\n",
       "dtype: int64"
      ]
     },
     "metadata": {},
     "output_type": "display_data"
    },
    {
     "name": "stdout",
     "output_type": "stream",
     "text": [
      "literature_sd\n"
     ]
    },
    {
     "data": {
      "text/plain": [
       "tool\n",
       "cd.cy.no            13\n",
       "cd.cy.yes           13\n",
       "cd.ltl2ldba.no      61\n",
       "cd.ltl2ldba.yes     40\n",
       "cd.seminator.no     13\n",
       "cd.seminator.yes    13\n",
       "sd.cy.no            13\n",
       "sd.cy.yes           13\n",
       "sd.ltl2ldba.no      49\n",
       "sd.ltl2ldba.yes     17\n",
       "sd.nba2ldba.no      17\n",
       "sd.nba2ldba.yes     13\n",
       "sd.seminator.no     13\n",
       "sd.seminator.yes    13\n",
       "dtype: int64"
      ]
     },
     "metadata": {},
     "output_type": "display_data"
    },
    {
     "name": "stdout",
     "output_type": "stream",
     "text": [
      "random_det\n"
     ]
    },
    {
     "data": {
      "text/plain": [
       "tool\n",
       "cd.cy.no            426\n",
       "cd.cy.yes           426\n",
       "cd.ltl2ldba.no      566\n",
       "cd.ltl2ldba.yes     493\n",
       "cd.seminator.no     413\n",
       "cd.seminator.yes    413\n",
       "sd.cy.no            426\n",
       "sd.cy.yes           426\n",
       "sd.ltl2ldba.no      664\n",
       "sd.ltl2ldba.yes     442\n",
       "sd.nba2ldba.no      521\n",
       "sd.nba2ldba.yes     426\n",
       "sd.seminator.no     413\n",
       "sd.seminator.yes    413\n",
       "dtype: int64"
      ]
     },
     "metadata": {},
     "output_type": "display_data"
    },
    {
     "name": "stdout",
     "output_type": "stream",
     "text": [
      "literature_det\n"
     ]
    },
    {
     "data": {
      "text/plain": [
       "tool\n",
       "cd.cy.no             596\n",
       "cd.cy.yes            596\n",
       "cd.ltl2ldba.no      1033\n",
       "cd.ltl2ldba.yes      806\n",
       "cd.seminator.no      555\n",
       "cd.seminator.yes     555\n",
       "sd.cy.no             596\n",
       "sd.cy.yes            596\n",
       "sd.ltl2ldba.no      1263\n",
       "sd.ltl2ldba.yes      851\n",
       "sd.nba2ldba.no       807\n",
       "sd.nba2ldba.yes      596\n",
       "sd.seminator.no      555\n",
       "sd.seminator.yes     555\n",
       "dtype: int64"
      ]
     },
     "metadata": {},
     "output_type": "display_data"
    }
   ],
   "source": [
    "for (name,r) in runners.items():\n",
    "    print(name)\n",
    "    display(r.cummulative())"
   ]
  },
  {
   "cell_type": "code",
   "execution_count": 11,
   "metadata": {},
   "outputs": [],
   "source": [
    "%mv literature* data\n",
    "%mv random* data"
   ]
  },
  {
   "cell_type": "code",
   "execution_count": 9,
   "metadata": {},
   "outputs": [
    {
     "name": "stdout",
     "output_type": "stream",
     "text": [
      "random_sd\n"
     ]
    },
    {
     "data": {
      "text/plain": [
       "tool\n",
       "cd.cy.no            0\n",
       "cd.cy.yes           0\n",
       "cd.ltl2ldba.no      0\n",
       "cd.ltl2ldba.yes     0\n",
       "cd.seminator.no     0\n",
       "cd.seminator.yes    0\n",
       "sd.cy.no            0\n",
       "sd.cy.yes           0\n",
       "sd.ltl2ldba.no      0\n",
       "sd.ltl2ldba.yes     0\n",
       "sd.nba2ldba.no      0\n",
       "sd.nba2ldba.yes     0\n",
       "sd.seminator.no     0\n",
       "sd.seminator.yes    0\n",
       "dtype: int64"
      ]
     },
     "metadata": {},
     "output_type": "display_data"
    },
    {
     "name": "stdout",
     "output_type": "stream",
     "text": [
      "literature_nd\n"
     ]
    },
    {
     "data": {
      "text/plain": [
       "tool\n",
       "cd.cy.no            0\n",
       "cd.cy.yes           0\n",
       "cd.ltl2ldba.no      0\n",
       "cd.ltl2ldba.yes     0\n",
       "cd.seminator.no     0\n",
       "cd.seminator.yes    0\n",
       "sd.cy.no            0\n",
       "sd.cy.yes           1\n",
       "sd.ltl2ldba.no      0\n",
       "sd.ltl2ldba.yes     0\n",
       "sd.nba2ldba.no      0\n",
       "sd.nba2ldba.yes     1\n",
       "sd.seminator.no     0\n",
       "sd.seminator.yes    1\n",
       "dtype: int64"
      ]
     },
     "metadata": {},
     "output_type": "display_data"
    },
    {
     "name": "stdout",
     "output_type": "stream",
     "text": [
      "random_nd\n"
     ]
    },
    {
     "data": {
      "text/plain": [
       "tool\n",
       "cd.cy.no            0\n",
       "cd.cy.yes           0\n",
       "cd.ltl2ldba.no      0\n",
       "cd.ltl2ldba.yes     0\n",
       "cd.seminator.no     0\n",
       "cd.seminator.yes    0\n",
       "sd.cy.no            0\n",
       "sd.cy.yes           0\n",
       "sd.ltl2ldba.no      0\n",
       "sd.ltl2ldba.yes     0\n",
       "sd.nba2ldba.no      0\n",
       "sd.nba2ldba.yes     0\n",
       "sd.seminator.no     0\n",
       "sd.seminator.yes    0\n",
       "dtype: int64"
      ]
     },
     "metadata": {},
     "output_type": "display_data"
    },
    {
     "name": "stdout",
     "output_type": "stream",
     "text": [
      "random_cd\n"
     ]
    },
    {
     "data": {
      "text/plain": [
       "tool\n",
       "cd.cy.no            0\n",
       "cd.cy.yes           0\n",
       "cd.ltl2ldba.no      0\n",
       "cd.ltl2ldba.yes     0\n",
       "cd.seminator.no     0\n",
       "cd.seminator.yes    0\n",
       "sd.cy.no            0\n",
       "sd.cy.yes           0\n",
       "sd.ltl2ldba.no      0\n",
       "sd.ltl2ldba.yes     0\n",
       "sd.nba2ldba.no      0\n",
       "sd.nba2ldba.yes     0\n",
       "sd.seminator.no     0\n",
       "sd.seminator.yes    0\n",
       "dtype: int64"
      ]
     },
     "metadata": {},
     "output_type": "display_data"
    },
    {
     "name": "stdout",
     "output_type": "stream",
     "text": [
      "literature_cd\n"
     ]
    },
    {
     "data": {
      "text/plain": [
       "tool\n",
       "cd.cy.no            0\n",
       "cd.cy.yes           0\n",
       "cd.ltl2ldba.no      0\n",
       "cd.ltl2ldba.yes     0\n",
       "cd.seminator.no     0\n",
       "cd.seminator.yes    0\n",
       "sd.cy.no            0\n",
       "sd.cy.yes           0\n",
       "sd.ltl2ldba.no      0\n",
       "sd.ltl2ldba.yes     0\n",
       "sd.nba2ldba.no      0\n",
       "sd.nba2ldba.yes     0\n",
       "sd.seminator.no     0\n",
       "sd.seminator.yes    0\n",
       "dtype: int64"
      ]
     },
     "metadata": {},
     "output_type": "display_data"
    },
    {
     "name": "stdout",
     "output_type": "stream",
     "text": [
      "literature_sd\n"
     ]
    },
    {
     "data": {
      "text/plain": [
       "tool\n",
       "cd.cy.no            0\n",
       "cd.cy.yes           0\n",
       "cd.ltl2ldba.no      0\n",
       "cd.ltl2ldba.yes     0\n",
       "cd.seminator.no     0\n",
       "cd.seminator.yes    0\n",
       "sd.cy.no            0\n",
       "sd.cy.yes           0\n",
       "sd.ltl2ldba.no      0\n",
       "sd.ltl2ldba.yes     0\n",
       "sd.nba2ldba.no      0\n",
       "sd.nba2ldba.yes     0\n",
       "sd.seminator.no     0\n",
       "sd.seminator.yes    0\n",
       "dtype: int64"
      ]
     },
     "metadata": {},
     "output_type": "display_data"
    },
    {
     "name": "stdout",
     "output_type": "stream",
     "text": [
      "random_det\n"
     ]
    },
    {
     "data": {
      "text/plain": [
       "tool\n",
       "cd.cy.no            0\n",
       "cd.cy.yes           0\n",
       "cd.ltl2ldba.no      0\n",
       "cd.ltl2ldba.yes     0\n",
       "cd.seminator.no     0\n",
       "cd.seminator.yes    0\n",
       "sd.cy.no            0\n",
       "sd.cy.yes           0\n",
       "sd.ltl2ldba.no      0\n",
       "sd.ltl2ldba.yes     0\n",
       "sd.nba2ldba.no      0\n",
       "sd.nba2ldba.yes     0\n",
       "sd.seminator.no     0\n",
       "sd.seminator.yes    0\n",
       "dtype: int64"
      ]
     },
     "metadata": {},
     "output_type": "display_data"
    },
    {
     "name": "stdout",
     "output_type": "stream",
     "text": [
      "literature_det\n"
     ]
    },
    {
     "data": {
      "text/plain": [
       "tool\n",
       "cd.cy.no            0\n",
       "cd.cy.yes           0\n",
       "cd.ltl2ldba.no      0\n",
       "cd.ltl2ldba.yes     0\n",
       "cd.seminator.no     0\n",
       "cd.seminator.yes    0\n",
       "sd.cy.no            0\n",
       "sd.cy.yes           0\n",
       "sd.ltl2ldba.no      0\n",
       "sd.ltl2ldba.yes     0\n",
       "sd.nba2ldba.no      0\n",
       "sd.nba2ldba.yes     0\n",
       "sd.seminator.no     0\n",
       "sd.seminator.yes    0\n",
       "dtype: int64"
      ]
     },
     "metadata": {},
     "output_type": "display_data"
    }
   ],
   "source": [
    "for (name,r) in runners.items():\n",
    "    print(name)\n",
    "    display(r.compute_timeouts())"
   ]
  },
  {
   "cell_type": "code",
   "execution_count": 10,
   "metadata": {},
   "outputs": [
    {
     "data": {
      "text/html": [
       "<div>\n",
       "<table border=\"1\" class=\"dataframe\">\n",
       "  <thead>\n",
       "    <tr style=\"text-align: right;\">\n",
       "      <th></th>\n",
       "      <th>tool</th>\n",
       "      <th>cd.cy.no</th>\n",
       "      <th>cd.cy.yes</th>\n",
       "      <th>cd.ltl2ldba.no</th>\n",
       "      <th>cd.ltl2ldba.yes</th>\n",
       "      <th>cd.seminator.no</th>\n",
       "      <th>cd.seminator.yes</th>\n",
       "      <th>sd.cy.no</th>\n",
       "      <th>sd.cy.yes</th>\n",
       "      <th>sd.ltl2ldba.no</th>\n",
       "      <th>sd.ltl2ldba.yes</th>\n",
       "      <th>sd.nba2ldba.no</th>\n",
       "      <th>sd.nba2ldba.yes</th>\n",
       "      <th>sd.seminator.no</th>\n",
       "      <th>sd.seminator.yes</th>\n",
       "    </tr>\n",
       "    <tr>\n",
       "      <th>form_id</th>\n",
       "      <th>formula</th>\n",
       "      <th></th>\n",
       "      <th></th>\n",
       "      <th></th>\n",
       "      <th></th>\n",
       "      <th></th>\n",
       "      <th></th>\n",
       "      <th></th>\n",
       "      <th></th>\n",
       "      <th></th>\n",
       "      <th></th>\n",
       "      <th></th>\n",
       "      <th></th>\n",
       "      <th></th>\n",
       "      <th></th>\n",
       "    </tr>\n",
       "  </thead>\n",
       "  <tbody>\n",
       "    <tr>\n",
       "      <th>17</th>\n",
       "      <th>G((((a &amp; Xa) | (!a &amp; X!a)) &amp; ((b &amp; Xb) | (!b &amp; X!b)) &amp; ((c &amp; Xc) | (!c &amp; X!c)) &amp; ((d &amp; Xd) | (!d &amp; X!d))) | X(!e &amp; ((((a &amp; Xa) | (!a &amp; X!a)) &amp; ((b &amp; Xb) | (!b &amp; X!b)) &amp; ((c &amp; Xc) | (!c &amp; X!c)) &amp; ((d &amp; Xd) | (!d &amp; X!d))) U e)))</th>\n",
       "      <td>194.0</td>\n",
       "      <td>162.0</td>\n",
       "      <td>49.0</td>\n",
       "      <td>49.0</td>\n",
       "      <td>130.0</td>\n",
       "      <td>98.0</td>\n",
       "      <td>148.0</td>\n",
       "      <td>NaN</td>\n",
       "      <td>49.0</td>\n",
       "      <td>49.0</td>\n",
       "      <td>164.0</td>\n",
       "      <td>NaN</td>\n",
       "      <td>115.0</td>\n",
       "      <td>NaN</td>\n",
       "    </tr>\n",
       "  </tbody>\n",
       "</table>\n",
       "</div>"
      ],
      "text/plain": [
       "tool                                                        cd.cy.no  \\\n",
       "form_id formula                                                        \n",
       "17      G((((a & Xa) | (!a & X!a)) & ((b & Xb) | (!b & ...     194.0   \n",
       "\n",
       "tool                                                        cd.cy.yes  \\\n",
       "form_id formula                                                         \n",
       "17      G((((a & Xa) | (!a & X!a)) & ((b & Xb) | (!b & ...      162.0   \n",
       "\n",
       "tool                                                        cd.ltl2ldba.no  \\\n",
       "form_id formula                                                              \n",
       "17      G((((a & Xa) | (!a & X!a)) & ((b & Xb) | (!b & ...            49.0   \n",
       "\n",
       "tool                                                        cd.ltl2ldba.yes  \\\n",
       "form_id formula                                                               \n",
       "17      G((((a & Xa) | (!a & X!a)) & ((b & Xb) | (!b & ...             49.0   \n",
       "\n",
       "tool                                                        cd.seminator.no  \\\n",
       "form_id formula                                                               \n",
       "17      G((((a & Xa) | (!a & X!a)) & ((b & Xb) | (!b & ...            130.0   \n",
       "\n",
       "tool                                                        cd.seminator.yes  \\\n",
       "form_id formula                                                                \n",
       "17      G((((a & Xa) | (!a & X!a)) & ((b & Xb) | (!b & ...              98.0   \n",
       "\n",
       "tool                                                        sd.cy.no  \\\n",
       "form_id formula                                                        \n",
       "17      G((((a & Xa) | (!a & X!a)) & ((b & Xb) | (!b & ...     148.0   \n",
       "\n",
       "tool                                                        sd.cy.yes  \\\n",
       "form_id formula                                                         \n",
       "17      G((((a & Xa) | (!a & X!a)) & ((b & Xb) | (!b & ...        NaN   \n",
       "\n",
       "tool                                                        sd.ltl2ldba.no  \\\n",
       "form_id formula                                                              \n",
       "17      G((((a & Xa) | (!a & X!a)) & ((b & Xb) | (!b & ...            49.0   \n",
       "\n",
       "tool                                                        sd.ltl2ldba.yes  \\\n",
       "form_id formula                                                               \n",
       "17      G((((a & Xa) | (!a & X!a)) & ((b & Xb) | (!b & ...             49.0   \n",
       "\n",
       "tool                                                        sd.nba2ldba.no  \\\n",
       "form_id formula                                                              \n",
       "17      G((((a & Xa) | (!a & X!a)) & ((b & Xb) | (!b & ...           164.0   \n",
       "\n",
       "tool                                                        sd.nba2ldba.yes  \\\n",
       "form_id formula                                                               \n",
       "17      G((((a & Xa) | (!a & X!a)) & ((b & Xb) | (!b & ...              NaN   \n",
       "\n",
       "tool                                                        sd.seminator.no  \\\n",
       "form_id formula                                                               \n",
       "17      G((((a & Xa) | (!a & X!a)) & ((b & Xb) | (!b & ...            115.0   \n",
       "\n",
       "tool                                                        sd.seminator.yes  \n",
       "form_id formula                                                               \n",
       "17      G((((a & Xa) | (!a & X!a)) & ((b & Xb) | (!b & ...               NaN  "
      ]
     },
     "execution_count": 10,
     "metadata": {},
     "output_type": "execute_result"
    }
   ],
   "source": [
    "r = runners['literature_nd'].values\n",
    "r.states[r.exit_status['sd.cy.yes'] != 'ok']"
   ]
  }
 ],
 "metadata": {
  "kernelspec": {
   "display_name": "Python 3",
   "language": "python",
   "name": "python3"
  },
  "language_info": {
   "codemirror_mode": {
    "name": "ipython",
    "version": 3
   },
   "file_extension": ".py",
   "mimetype": "text/x-python",
   "name": "python",
   "nbconvert_exporter": "python",
   "pygments_lexer": "ipython3",
   "version": "3.4.3"
  }
 },
 "nbformat": 4,
 "nbformat_minor": 1
}
